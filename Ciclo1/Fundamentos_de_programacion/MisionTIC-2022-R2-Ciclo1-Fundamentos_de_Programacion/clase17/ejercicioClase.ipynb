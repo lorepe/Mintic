{
 "cells": [
  {
   "cell_type": "code",
   "execution_count": 1,
   "metadata": {},
   "outputs": [],
   "source": [
    "from functools import reduce\n",
    "\n",
    "def calculoNotas (codigoEstudiante:str ,nota1:int,nota2:int,nota3:int,nota4:int,nota5:int):\n",
    "    # notas=[nota1,nota2,nota3,nota4,nota5]\n",
    "    # if min(notas) in notas:\n",
    "    #     notas.pop() \n",
    "    \n",
    "    # suma=reduce(lambda x , y: x+y ,notas)\n",
    "    # promedio=round(suma/5,2)\n",
    "    nota_maxima_promedio = 5\n",
    "    maxima_nota = 100\n",
    "    total_nota_sin_menor = 4\n",
    "    calcular = 0    \n",
    "    \n",
    "    if(nota1<nota2 and nota1<nota3 and nota1<nota4 and nota1<nota5):\n",
    "        calcular=(nota2+nota3+nota4+nota5)/total_nota_sin_menor\n",
    "        calcular=(calcular*5)/100\n",
    "    elif(nota2<=nota1 and nota2<=nota3 and nota2<=nota4 and nota2<=nota5):\n",
    "        calcular=(nota1+nota3+nota4+nota5)/total_nota_sin_menor\n",
    "        calcular=(calcular*5)/100\n",
    "    elif(nota3<=nota1 and nota3<=nota2 and nota3<=nota4 and nota3<=nota5):\n",
    "        calcular=(nota1+nota2+nota4+nota5)/total_nota_sin_menor\n",
    "        calcular=(calcular*5)/100\n",
    "    elif(nota4<=nota1 and nota4<=nota2 and nota4<=nota3 and nota4<=nota5):\n",
    "        calcular=(nota1+nota2+nota3+nota5)/total_nota_sin_menor\n",
    "        calcular=(calcular*5)/100\n",
    "    elif(nota5<=nota1 and nota5<=nota2 and nota5<=nota3 and nota5<=nota4):\n",
    "        calcular=(nota1+nota2+nota3+nota4)/total_nota_sin_menor\n",
    "        calcular=(calcular*5)/100\n",
    "    promedio=round(calcular,2)\n",
    "    return \"El promedio ajustado del estudiante {} es: {}\".format(codigoEstudiante,promedio)\n",
    "    "
   ]
  },
  {
   "cell_type": "markdown",
   "metadata": {},
   "source": [
    "**Clase Empleado**"
   ]
  },
  {
   "cell_type": "code",
   "execution_count": null,
   "metadata": {},
   "outputs": [],
   "source": [
    "class Empleado:\n",
    "    def __init__(self):\n",
    "        self.nombre=input('Ingrese el nombre del empleado')\n",
    "        self.sueldo=float(input('Ingrese el sueldo'))\n",
    "        \n",
    "    def imprimir(self):\n",
    "        print(\"Nombre: \",self.nombre)\n",
    "        print(\"Sueldo: \",self.sueldo)\n",
    "        \n",
    "    def pagar_impuestos(self):\n",
    "        if self.sueldo >3000:\n",
    "            print(\"Debe pagar impuestos\")\n",
    "        else:\n",
    "            print(\"No paga impuestos\")\n",
    "            \n",
    "empleado=Empleado()\n"
   ]
  },
  {
   "cell_type": "markdown",
   "metadata": {},
   "source": [
    "[Link repo Ejercicio Promedio notas POO](https://github.com/luismescobarf/clasesCiclo1/blob/master/PromedioNotasPOO/Nota.py)"
   ]
  },
  {
   "cell_type": "code",
   "execution_count": null,
   "metadata": {},
   "outputs": [],
   "source": []
  }
 ],
 "metadata": {
  "interpreter": {
   "hash": "7f3065018bcd7bf6e0950978e0d0e3ee9e95750492171c14e129968bd54495c4"
  },
  "kernelspec": {
   "display_name": "Python 3.10.3 64-bit",
   "language": "python",
   "name": "python3"
  },
  "language_info": {
   "codemirror_mode": {
    "name": "ipython",
    "version": 3
   },
   "file_extension": ".py",
   "mimetype": "text/x-python",
   "name": "python",
   "nbconvert_exporter": "python",
   "pygments_lexer": "ipython3",
   "version": "3.10.3"
  },
  "orig_nbformat": 4
 },
 "nbformat": 4,
 "nbformat_minor": 2
}
