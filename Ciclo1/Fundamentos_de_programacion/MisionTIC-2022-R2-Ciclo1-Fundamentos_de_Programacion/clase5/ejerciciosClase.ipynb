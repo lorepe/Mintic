{
 "cells": [
  {
   "cell_type": "code",
   "execution_count": 6,
   "metadata": {},
   "outputs": [
    {
     "ename": "ValueError",
     "evalue": "invalid literal for int() with base 10: 'QW3456'",
     "output_type": "error",
     "traceback": [
      "\u001b[1;31m---------------------------------------------------------------------------\u001b[0m",
      "\u001b[1;31mValueError\u001b[0m                                Traceback (most recent call last)",
      "\u001b[1;32md:\\MINTIC\\Ciclo1\\Fundamentos_de_programacion\\Unidad1\\MisionTIC-2022-R2-Ciclo1-Fundamentos_de_Programacion\\clase5\\ejerciciosClase.ipynb Cell 1'\u001b[0m in \u001b[0;36m<cell line: 1>\u001b[1;34m()\u001b[0m\n\u001b[1;32m----> <a href='vscode-notebook-cell:/d%3A/MINTIC/Ciclo1/Fundamentos_de_programacion/Unidad1/MisionTIC-2022-R2-Ciclo1-Fundamentos_de_Programacion/clase5/ejerciciosClase.ipynb#ch0000000?line=0'>1</a>\u001b[0m x \u001b[39m=\u001b[39m \u001b[39mint\u001b[39;49m(\u001b[39minput\u001b[39;49m(\u001b[39m\"\u001b[39;49m\u001b[39mdigite el numero por teclado: \u001b[39;49m\u001b[39m\"\u001b[39;49m))\n\u001b[0;32m      <a href='vscode-notebook-cell:/d%3A/MINTIC/Ciclo1/Fundamentos_de_programacion/Unidad1/MisionTIC-2022-R2-Ciclo1-Fundamentos_de_Programacion/clase5/ejerciciosClase.ipynb#ch0000000?line=1'>2</a>\u001b[0m y \u001b[39m=\u001b[39m \u001b[39mint\u001b[39m(\u001b[39minput\u001b[39m(\u001b[39m\"\u001b[39m\u001b[39mdigite el numero por teclado: \u001b[39m\u001b[39m\"\u001b[39m))\n\u001b[0;32m      <a href='vscode-notebook-cell:/d%3A/MINTIC/Ciclo1/Fundamentos_de_programacion/Unidad1/MisionTIC-2022-R2-Ciclo1-Fundamentos_de_Programacion/clase5/ejerciciosClase.ipynb#ch0000000?line=2'>3</a>\u001b[0m z \u001b[39m=\u001b[39m x \u001b[39m+\u001b[39m y\n",
      "\u001b[1;31mValueError\u001b[0m: invalid literal for int() with base 10: 'QW3456'"
     ]
    }
   ],
   "source": [
    "x = int(input(\"digite el numero por teclado: \"))\n",
    "y = int(input(\"digite el numero por teclado: \"))\n",
    "z = x + y\n",
    "print(z)"
   ]
  },
  {
   "cell_type": "code",
   "execution_count": null,
   "metadata": {},
   "outputs": [
    {
     "name": "stdout",
     "output_type": "stream",
     "text": [
      "5\n",
      "el numero es positivo\n"
     ]
    }
   ],
   "source": [
    "h = int(input(\"digite el numero por teclado: \"))\n",
    "print(h)\n",
    "if h > 0:\n",
    "    print(\"el numero es positivo\")\n",
    "# print(\"no esta indentado\")\n",
    "if h < 0:\n",
    "    print(\"el numero es negativo\")\n",
    "if h == 0:\n",
    "    print(\"el numero es nulo\")\n",
    "    "
   ]
  },
  {
   "cell_type": "code",
   "execution_count": null,
   "metadata": {},
   "outputs": [
    {
     "name": "stdout",
     "output_type": "stream",
     "text": [
      "el numero  0 es nulo\n"
     ]
    }
   ],
   "source": [
    "h = int(input(\"digite el numero por teclado: \"))\n",
    "if h > 0 :\n",
    "    print(\"el numero\", h,\"es positivo\")\n",
    "else:\n",
    "    if h < 0:\n",
    "        print(\"el numero\", h,\"es negativo\")\n",
    "    else:\n",
    "        print(\"el numero\", h,\"es nulo\")"
   ]
  },
  {
   "cell_type": "code",
   "execution_count": null,
   "metadata": {},
   "outputs": [
    {
     "name": "stdout",
     "output_type": "stream",
     "text": [
      "el numero es de 4 digitos\n"
     ]
    }
   ],
   "source": [
    "b=int(input(\"digite el numero: \"))\n",
    "if b<0:\n",
    "    b = b*(-1)\n",
    "if b>= 1 and b<=9:\n",
    "    print(\"el numero es de 1 digitos\")\n",
    "else:\n",
    "    if b>=10 and b <=99:\n",
    "        print(\"el numero es de 2 digitos\")\n",
    "    else:\n",
    "        if b>=100 and b<=999:\n",
    "            print(\"el numero es de 3 digitos\")\n",
    "        else:\n",
    "            if b>= 1000 and b<=9999:\n",
    "                print(\"el numero es de 4 digitos\")\n",
    "            else:\n",
    "                print(\"el numero es de mas de 4 digitos\")\n",
    "print(b)"
   ]
  },
  {
   "cell_type": "code",
   "execution_count": null,
   "metadata": {},
   "outputs": [],
   "source": [
    "c = int(input(\"digite el numero por teclado: \"))\n"
   ]
  },
  {
   "cell_type": "markdown",
   "metadata": {},
   "source": [
    "Desarrollo Reto 1"
   ]
  },
  {
   "cell_type": "code",
   "execution_count": 3,
   "metadata": {},
   "outputs": [
    {
     "name": "stdout",
     "output_type": "stream",
     "text": [
      "Para el usuario QW3456 La cantidad de dinero a recibir, según el monto inicial 5000000 para un tiempo de 2 meses es: 4900000.0\n",
      "Para el usuario AB1012 La cantidad de dinero a recibir, según el monto inicial 1000000 para un tiempo de 3 meses es: 1007500.0\n",
      "Para el usuario ER3366 La cantidad de dinero a recibir, según el monto inicial 650000 para un tiempo de 2 meses es: 637000.0\n"
     ]
    }
   ],
   "source": [
    "def CDT(usuario:str,capital: int, tiempo:int):\n",
    "    if tiempo>2:\n",
    "        valorInteres = (capital*(0.03)*tiempo)/12\n",
    "        valorTotal = valorInteres + capital\n",
    "    else:\n",
    "        valorAPerder = capital * 0.02\n",
    "        valorTotal = capital - valorAPerder\n",
    "    return \"Para el usuario \" + usuario +\" La cantidad de dinero a recibir, según el monto inicial \" +str(capital)+\" para un tiempo de \" +str(tiempo)+ \" meses es: \"+str(valorTotal)\n",
    "    \n",
    "print(CDT(\"QW3456\",5000000,2))\n",
    "# us= input(\"digite usuario: \")\n",
    "# cap= int(input(\"digite el capital: \"))\n",
    "# tiempo = int(input(\"digite el tiempo: \"))\n",
    "# CDT(us, cap, tiempo)\n",
    "print(CDT('AB1012', 1000000,3))\n",
    "print(CDT('ER3366', 650000,2))"
   ]
  },
  {
   "cell_type": "code",
   "execution_count": 7,
   "metadata": {},
   "outputs": [
    {
     "name": "stdout",
     "output_type": "stream",
     "text": [
      "Para el usuario AB1012 La cantidad de dinero a recibir, según el monto inicial 1000000 para un tiempo de 3 meses es: 1007500.0\n",
      "Para el usuario ER3366 La cantidad de dinero a recibir, según el monto inicial 650000 para un tiempo de 2 meses es: 637000.0\n"
     ]
    }
   ],
   "source": [
    "def CDT(usuario:str,capital: int, tiempo:int):\n",
    "    if tiempo>2:\n",
    "        valorInteres = (capital*(0.03)*tiempo)/12\n",
    "        valorTotal = valorInteres + capital\n",
    "    else:\n",
    "        valorAPerder = capital * 0.02\n",
    "        valorTotal = capital - valorAPerder\n",
    "    return 'Para el usuario {} La cantidad de dinero a recibir, según el monto inicial {} para un tiempo de {} meses es: {}'.format(usuario,capital,tiempo, valorTotal)\n",
    "print(CDT('AB1012', 1000000,3))\n",
    "print(CDT('ER3366', 650000,2))\n"
   ]
  },
  {
   "cell_type": "code",
   "execution_count": 17,
   "metadata": {},
   "outputs": [
    {
     "name": "stdout",
     "output_type": "stream",
     "text": [
      "Para el usuario QW3456 La cantidad de dinero a recibir, según el monto inicial 5000000 para un tiempo de 2 meses es: 4900000.0\n"
     ]
    }
   ],
   "source": [
    "def CDT(usuario:str,capital: int, tiempo:int):\n",
    "    if tiempo>2:\n",
    "        valorInteres = (capital*(0.03)*tiempo)/12\n",
    "        valorTotal = valorInteres + capital\n",
    "    else:\n",
    "        valorAPerder = capital * 0.02\n",
    "        valorTotal = capital - valorAPerder\n",
    "    print(\"Para el usuario \" + str(usuario) +\" La cantidad de dinero a recibir, según el monto inicial \" +str(capital)+\" para un tiempo de \" +str(tiempo)+ \" meses es: \"+str(valorTotal))\n",
    "    \n",
    "CDT(\"QW3456\",5000000,2)"
   ]
  }
 ],
 "metadata": {
  "interpreter": {
   "hash": "7f3065018bcd7bf6e0950978e0d0e3ee9e95750492171c14e129968bd54495c4"
  },
  "kernelspec": {
   "display_name": "Python 3.10.3 64-bit",
   "language": "python",
   "name": "python3"
  },
  "language_info": {
   "codemirror_mode": {
    "name": "ipython",
    "version": 3
   },
   "file_extension": ".py",
   "mimetype": "text/x-python",
   "name": "python",
   "nbconvert_exporter": "python",
   "pygments_lexer": "ipython3",
   "version": "3.10.3"
  },
  "orig_nbformat": 4
 },
 "nbformat": 4,
 "nbformat_minor": 2
}
