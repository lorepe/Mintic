{
 "cells": [
  {
   "cell_type": "markdown",
   "metadata": {},
   "source": [
    "Diccionario"
   ]
  },
  {
   "cell_type": "code",
   "execution_count": 1,
   "metadata": {},
   "outputs": [
    {
     "name": "stdout",
     "output_type": "stream",
     "text": [
      "El promedio es: 3.7\n"
     ]
    }
   ],
   "source": [
    "def promedioNotas(nota1, nota2, nota3, nota4):\n",
    "    promedio=round((nota1 + nota2 + nota3 + nota4)/4,2)\n",
    "    return promedio\n",
    "print(\"El promedio es:\",promedioNotas(3.0,2.1,5.0,4.7))"
   ]
  },
  {
   "cell_type": "code",
   "execution_count": 5,
   "metadata": {},
   "outputs": [
    {
     "name": "stdout",
     "output_type": "stream",
     "text": [
      "El promedio es: 3.7\n"
     ]
    }
   ],
   "source": [
    "def promedioNotas2(dicNotas):\n",
    "    sumatoria = 0\n",
    "    sumatoria += dicNotas[\"nota1\"]\n",
    "    sumatoria += dicNotas[\"nota2\"]\n",
    "    sumatoria += dicNotas[\"nota3\"]\n",
    "    sumatoria += dicNotas[\"nota4\"]\n",
    "    promedio = round(sumatoria/4, 2)\n",
    "    return promedio\n",
    "\n",
    "dicNotas = {}\n",
    "dicNotas[\"nota1\"] = 3.0\n",
    "dicNotas[\"nota2\"] = 2.1\n",
    "dicNotas[\"nota3\"] = 5.0\n",
    "dicNotas[\"nota4\"] = 4.7\n",
    "print(\"El promedio es:\", promedioNotas2(dicNotas))"
   ]
  },
  {
   "cell_type": "code",
   "execution_count": 6,
   "metadata": {},
   "outputs": [
    {
     "name": "stdout",
     "output_type": "stream",
     "text": [
      "El promedio es: 3.7\n"
     ]
    }
   ],
   "source": [
    "def promedioNotas2(dicNotas):\n",
    "    sumatoria = 0\n",
    "    sumatoria += dicNotas[\"nota1\"]\n",
    "    sumatoria += dicNotas[\"nota2\"]\n",
    "    sumatoria += dicNotas[\"nota3\"]\n",
    "    sumatoria += dicNotas[\"nota4\"]\n",
    "    promedio = round(sumatoria/4, 2)\n",
    "    return promedio\n",
    "\n",
    "\n",
    "dicNotas = {\n",
    "            \"nota1\": 3.0,\n",
    "            \"nota2\": 2.1,\n",
    "            \"nota3\": 5.0,\n",
    "            \"nota4\": 4.7\n",
    "}\n",
    "print(\"El promedio es:\", promedioNotas2(dicNotas))\n"
   ]
  },
  {
   "cell_type": "code",
   "execution_count": 14,
   "metadata": {},
   "outputs": [
    {
     "name": "stdout",
     "output_type": "stream",
     "text": [
      "3.5\n",
      "4.0\n",
      "3.9\n",
      "5.0\n",
      "El promadio es: 4.1\n"
     ]
    }
   ],
   "source": [
    "def promedioNotas3():\n",
    "    nota1 = float(input(\"Ingrese nota 1\"))\n",
    "    print(nota1)\n",
    "    nota2 = float(input(\"Ingrese nota 2\"))\n",
    "    print(nota2)\n",
    "    nota3 = float(input(\"Ingrese nota 3\"))\n",
    "    print(nota3)\n",
    "    nota4 = float(input(\"Ingrese nota 4\")) \n",
    "    print(nota4)\n",
    "    \n",
    "    diccionarioNotas={\n",
    "                \"nota1\" :nota1,\n",
    "                \"nota2\" :nota2,\n",
    "                \"nota3\" :nota3,\n",
    "                \"nota4\" :nota4        \n",
    "    }\n",
    "    sumatoria=0\n",
    "    sumatoria+= diccionarioNotas[\"nota1\"]\n",
    "    sumatoria+= diccionarioNotas[\"nota2\"]\n",
    "    sumatoria+= diccionarioNotas[\"nota3\"]\n",
    "    sumatoria+= diccionarioNotas[\"nota4\"]\n",
    "    promedio=round(sumatoria/4,2)\n",
    "    return promedio\n",
    "\n",
    "print(\"El promedio es:\", promedioNotas3())"
   ]
  },
  {
   "cell_type": "code",
   "execution_count": 15,
   "metadata": {},
   "outputs": [
    {
     "name": "stdout",
     "output_type": "stream",
     "text": [
      "{'estudiante': 'lorena', 'codigo': '1234', 'promedio': 4.6}\n"
     ]
    }
   ],
   "source": [
    "def promedioNotas3(dicNotas):\n",
    "    sumatoria=0\n",
    "    sumatoria+= diccionarioNotas[\"nota1\"]\n",
    "    sumatoria+= diccionarioNotas[\"nota2\"]\n",
    "    sumatoria+= diccionarioNotas[\"nota3\"]\n",
    "    sumatoria+= diccionarioNotas[\"nota4\"]\n",
    "    promedio=round(sumatoria/4,2)\n",
    "    reporteNotas={\"estudiante\":diccionarioNotas[\"estudiante\"],\n",
    "                  \"codigo\":diccionarioNotas[\"codigo\"],\n",
    "                  \"promedio\": promedio             \n",
    "    }\n",
    "    return reporteNotas \n",
    "    \n",
    "diccionarioNotas={\n",
    "            \"estudiante\": input(\"ingrese el nombre del estudiante\"),\n",
    "            \"codigo\": input(\"ingrese el codigo del estudiante\"),\n",
    "            \"nota1\" : float(input(\"Ingrese nota 1\")),\n",
    "            \"nota2\" : float(input(\"Ingrese nota 2\")),\n",
    "            \"nota3\" : float(input(\"Ingrese nota 3\")),\n",
    "            \"nota4\" : float(input(\"Ingrese nota 4\")) \n",
    "}\n",
    "print(promedioNotas3(diccionarioNotas))\n"
   ]
  },
  {
   "cell_type": "code",
   "execution_count": 32,
   "metadata": {},
   "outputs": [
    {
     "name": "stdout",
     "output_type": "stream",
     "text": [
      "{'estudiante': 'lore', 'codigo': '123', 'promedio': 4.95}\n",
      "4.0\n",
      "2.0\n",
      "4.8\n",
      "9.0\n",
      "9.0 2.0\n",
      "La nota más alta es nota 4:  9.0\n",
      "La nota más baja es nota 2:  9.0\n"
     ]
    }
   ],
   "source": [
    "def promedioNotas3(dicNotas):\n",
    "    sumatoria=0\n",
    "    sumatoria+= diccionarioNotas[\"nota1\"]\n",
    "    sumatoria+= diccionarioNotas[\"nota2\"]\n",
    "    sumatoria+= diccionarioNotas[\"nota3\"]\n",
    "    sumatoria+= diccionarioNotas[\"nota4\"]\n",
    "    promedio=round(sumatoria/4,2)\n",
    "    reporteNotas={\"estudiante\":diccionarioNotas[\"estudiante\"],\n",
    "                  \"codigo\":diccionarioNotas[\"codigo\"],\n",
    "                  \"promedio\": promedio,\n",
    "                  \"notaMasAlta\": a,\n",
    "                             \n",
    "    }\n",
    "    return reporteNotas \n",
    "    \n",
    "diccionarioNotas={\n",
    "            \"estudiante\": input(\"ingrese el nombre del estudiante\"),\n",
    "            \"codigo\": input(\"ingrese el codigo del estudiante\"),\n",
    "            \"nota1\" : float(input(\"Ingrese nota 1\")),\n",
    "            \"nota2\" : float(input(\"Ingrese nota 2\")),\n",
    "            \"nota3\" : float(input(\"Ingrese nota 3\")),\n",
    "            \"nota4\" : float(input(\"Ingrese nota 4\")) \n",
    "}\n",
    "\n",
    "print(promedioNotas3(diccionarioNotas))\n",
    "\n",
    "print(diccionarioNotas[\"nota1\"])\n",
    "print(diccionarioNotas[\"nota2\"])\n",
    "print(diccionarioNotas[\"nota3\"])\n",
    "print(diccionarioNotas[\"nota4\"])\n",
    "\n",
    "a= max(diccionarioNotas[\"nota1\"],diccionarioNotas[\"nota2\"],diccionarioNotas[\"nota3\"],diccionarioNotas[\"nota4\"])\n",
    "b= min(diccionarioNotas[\"nota1\"],diccionarioNotas[\"nota2\"],diccionarioNotas[\"nota3\"],diccionarioNotas[\"nota4\"])\n",
    "print(a,b)\n",
    "\n",
    "if a==diccionarioNotas[\"nota1\"]:\n",
    "    print(\"La nota más alta es nota 1: \", a)\n",
    "elif a==diccionarioNotas[\"nota2\"]:\n",
    "    print(\"La nota más alta es nota 2: \", a)\n",
    "elif a==diccionarioNotas[\"nota3\"]:\n",
    "    print(\"La nota más alta es nota 3: \", a)\n",
    "else:\n",
    "    print(\"La nota más alta es nota 4: \", a)\n",
    "\n",
    "\n",
    "if b==diccionarioNotas[\"nota1\"]:\n",
    "    print(\"La nota más baja es nota 1: \", b)\n",
    "elif b==diccionarioNotas[\"nota2\"]:\n",
    "    print(\"La nota más baja es nota 2: \", b)\n",
    "elif b==diccionarioNotas[\"nota3\"]:\n",
    "    print(\"La nota más baja es nota 3: \", b)\n",
    "else:\n",
    "    print(\"La nota más baja es nota 4: \", b)"
   ]
  },
  {
   "cell_type": "code",
   "execution_count": 28,
   "metadata": {},
   "outputs": [
    {
     "name": "stdout",
     "output_type": "stream",
     "text": [
      "Numero no valido. Ingrese un numero del 1 - 7\n"
     ]
    }
   ],
   "source": [
    "def semana(numero):\n",
    "  if numero==1:\n",
    "    return \"Lunes\"\n",
    "  elif numero==2:\n",
    "    return \"Martes\"\n",
    "  elif numero==3:\n",
    "    return \"Miercoles\"\n",
    "  elif numero==4:\n",
    "    return \"Jueves\"\n",
    "  elif numero==5:\n",
    "      return \"Viernes\"\n",
    "  elif numero==6:\n",
    "      return \"Sabado\"\n",
    "  elif numero==7:\n",
    "      return \"Domingo\"\n",
    "  else:\n",
    "    return \"Numero no valido. Ingrese un numero del 1 - 7\"\n",
    "numero=int(input(\"Ingrese un número:\\n Lunes\\n Martes \\n Miercoles\\n Jueves \\n Viernes\\n Sabado \\n Domingo\"))\n",
    "print(semana(numero))\n"
   ]
  },
  {
   "cell_type": "code",
   "execution_count": 29,
   "metadata": {},
   "outputs": [
    {
     "name": "stdout",
     "output_type": "stream",
     "text": [
      "1\n"
     ]
    }
   ],
   "source": [
    "def diaSemana (dia):\n",
    "  if dia==\"Lunes\":\n",
    "    print(\"1\")\n",
    "  elif dia==\"Martes\":\n",
    "    print(\"2\")\n",
    "  elif dia==\"Miercoles\":\n",
    "    print(\"3\")\n",
    "  elif dia==\"Jueves\":\n",
    "    print(\"4\")\n",
    "  elif dia==\"Viernes\":\n",
    "      print(\"5\")\n",
    "  elif dia==\"Sabado\":\n",
    "      print(\"6\")\n",
    "  elif dia==\"Domingo\":\n",
    "      print(\"7\")\n",
    "  else:\n",
    "    print(\"Día no valido. Ingrese un día de las opciones\\nLunes\\nMartes\\nMiercoles\\nJueves\\nViernes\\nSabado\\nDomingo\")\n",
    "dia=input(\"Ingrese un día para saber que número es:\\n 1)Lunes\\n 2)Martes \\n 3)Miercoles\\n 4)Jueves \\n 5)Viernes\\n 6)Sabado \\n 7)Domingo \")\n",
    "diaSemana(dia)"
   ]
  }
 ],
 "metadata": {
  "interpreter": {
   "hash": "898a3b37e9cea589c325ccc09063f7cbcedbcd5d224cc9aa4409774cdea8303c"
  },
  "kernelspec": {
   "display_name": "Python 3.10.3 64-bit",
   "language": "python",
   "name": "python3"
  },
  "language_info": {
   "codemirror_mode": {
    "name": "ipython",
    "version": 3
   },
   "file_extension": ".py",
   "mimetype": "text/x-python",
   "name": "python",
   "nbconvert_exporter": "python",
   "pygments_lexer": "ipython3",
   "version": "3.10.3"
  },
  "orig_nbformat": 4
 },
 "nbformat": 4,
 "nbformat_minor": 2
}
