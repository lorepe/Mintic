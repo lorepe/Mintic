{
 "cells": [
  {
   "cell_type": "code",
   "execution_count": 1,
   "metadata": {},
   "outputs": [
    {
     "name": "stdout",
     "output_type": "stream",
     "text": [
      "<function suma at 0x0000016834C8C670>\n",
      "30\n"
     ]
    }
   ],
   "source": [
    "def suma(val1=0,val2=0): #Funcion de primera clase por que funciona en todo momento, no llama a otra función\n",
    "    return val1+val2\n",
    "\n",
    "def operacion(funcion,val1=0,val2=0):\n",
    "    return funcion(val1,val2)\n",
    "\n",
    "funcion_suma=suma\n",
    "resultado=operacion(funcion_suma,10,20)\n",
    "print(funcion_suma)#0+0, que son los valores por defecto\n",
    "print(resultado)#10+20 = 30,  "
   ]
  },
  {
   "cell_type": "code",
   "execution_count": 9,
   "metadata": {},
   "outputs": [
    {
     "name": "stdout",
     "output_type": "stream",
     "text": [
      "0\n"
     ]
    }
   ],
   "source": [
    "def crear_funciones(operador):\n",
    "    if operador == '+':\n",
    "        def suma(val1=0,val2=0):\n",
    "            return val1+val2\n",
    "        return suma\n",
    "    elif operador == '-':\n",
    "        def resta(val1=0,val2=0):\n",
    "            return val1-val2\n",
    "        return resta\n",
    "    elif operador == '*':\n",
    "        def multiplicacion(val1=1,val2=1):\n",
    "            return val1*val2\n",
    "        return multiplicacion\n",
    "    elif operador == '/':\n",
    "        def divicion(val1=1,val2=1):#dividir por 0 genera un error\n",
    "            return val1/val2\n",
    "        return divicion\n",
    "        \n",
    "def operacion(funcion, val1=0, val2=0):\n",
    "    return funcion(val1, val2)\n",
    "\n",
    "\n",
    "funcion_suma=crear_funciones('*')\n",
    "resultado=operacion(funcion_suma,20)\n",
    "print(resultado)"
   ]
  },
  {
   "cell_type": "code",
   "execution_count": 10,
   "metadata": {},
   "outputs": [
    {
     "name": "stdout",
     "output_type": "stream",
     "text": [
      "18\n"
     ]
    }
   ],
   "source": [
    "#funcion lammda es una funcion anonima, no tiene nombre, se crea cuando se va a usar inmediatamente. Usualmente solo ocupa una linea de codigo.\n",
    "suma2=lambda val1=0, val2=0, val3=0: val1+val2+val3;\n",
    "\n",
    "operacion=lambda funcion, val1=0, val2=0, val3=0: funcion(val1, val2, val3);\n",
    "res=operacion(suma2, 1, 5, 7)\n",
    "print(suma2(10,5,3))"
   ]
  },
  {
   "cell_type": "code",
   "execution_count": 12,
   "metadata": {},
   "outputs": [
    {
     "name": "stdout",
     "output_type": "stream",
     "text": [
      "[1, 4, 9, 16, 25, 36, 49, 64, 81]\n"
     ]
    }
   ],
   "source": [
    "def cuadrado(num):\n",
    "    return num**2\n",
    "lista=[1,2,3,4,5,6,7,8,9]\n",
    "l=list(map(cuadrado,lista))\n",
    "print(l)"
   ]
  },
  {
   "cell_type": "code",
   "execution_count": 13,
   "metadata": {},
   "outputs": [
    {
     "name": "stdout",
     "output_type": "stream",
     "text": [
      "4\n"
     ]
    }
   ],
   "source": [
    "def mayor_a_cinco(elemento):\n",
    "    return elemento > 5\n",
    "resultado =list(filter(mayor_a_cinco,lista))\n",
    "print(len(resultado))"
   ]
  },
  {
   "cell_type": "code",
   "execution_count": 14,
   "metadata": {},
   "outputs": [
    {
     "name": "stdout",
     "output_type": "stream",
     "text": [
      "45\n"
     ]
    }
   ],
   "source": [
    "from functools import reduce\n",
    "resultado=reduce((lambda acumulador=0, elemento=0: acumulador+elemento), lista )\n",
    "print(resultado)"
   ]
  },
  {
   "cell_type": "code",
   "execution_count": 19,
   "metadata": {},
   "outputs": [
    {
     "name": "stdout",
     "output_type": "stream",
     "text": [
      "(('pedro', 'salas'), ('juan', 'arias'), ('raul', 'quintero'))\n",
      "[('pedro', 'salas'), ('juan', 'arias'), ('raul', 'quintero')]\n"
     ]
    }
   ],
   "source": [
    "lista1=['pedro','juan','raul']\n",
    "lista2=['salas','arias','quintero']\n",
    "\n",
    "res=tuple(zip(lista1,lista2))\n",
    "print(res)\n",
    "res2=list(zip(lista1,lista2))\n",
    "print(res2)"
   ]
  },
  {
   "cell_type": "code",
   "execution_count": null,
   "metadata": {},
   "outputs": [],
   "source": []
  }
 ],
 "metadata": {
  "interpreter": {
   "hash": "7f3065018bcd7bf6e0950978e0d0e3ee9e95750492171c14e129968bd54495c4"
  },
  "kernelspec": {
   "display_name": "Python 3.10.3 64-bit",
   "language": "python",
   "name": "python3"
  },
  "language_info": {
   "codemirror_mode": {
    "name": "ipython",
    "version": 3
   },
   "file_extension": ".py",
   "mimetype": "text/x-python",
   "name": "python",
   "nbconvert_exporter": "python",
   "pygments_lexer": "ipython3",
   "version": "3.10.3"
  },
  "orig_nbformat": 4
 },
 "nbformat": 4,
 "nbformat_minor": 2
}
