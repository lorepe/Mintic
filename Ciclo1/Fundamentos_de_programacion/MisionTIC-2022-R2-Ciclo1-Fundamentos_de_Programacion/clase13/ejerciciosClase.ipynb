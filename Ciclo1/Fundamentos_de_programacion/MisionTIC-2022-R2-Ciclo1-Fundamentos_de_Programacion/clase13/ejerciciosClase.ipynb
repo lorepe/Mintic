{
 "cells": [
  {
   "cell_type": "code",
   "execution_count": 1,
   "metadata": {},
   "outputs": [
    {
     "name": "stdout",
     "output_type": "stream",
     "text": [
      "10\n"
     ]
    }
   ],
   "source": [
    "#Funcion Lambda\n",
    "suma= lambda val1=0,val2=0:val1+val2\n",
    "print(suma(5,5))"
   ]
  },
  {
   "cell_type": "code",
   "execution_count": 10,
   "metadata": {},
   "outputs": [
    {
     "name": "stdout",
     "output_type": "stream",
     "text": [
      "<map object at 0x00000197AA3F0670>\n",
      "[1, 4, 9, 16, 25, 36, 49, 64, 81]\n",
      "[3, 4, 5, 6, 7, 8, 9]\n",
      "45\n",
      "hola biemvenidos a mision TIC\n",
      "[('hola', 1), ('biemvenidos', 2), ('a', 3), ('mision', 4), ('TIC', 5)]\n",
      "[('hola', 1), ('biemvenidos', 2), ('a', 3), ('mision', 4), ('TIC', 5)]\n",
      "[('hola', 'biemvenidos', 'a', 'mision', 'TIC'), (1, 2, 3, 4, 5)]\n"
     ]
    }
   ],
   "source": [
    "#Map -filter- reduce- zip\n",
    "lista=[1,2,3,4,5,6,7,8,9]\n",
    "cubo= lambda x=0:x**2\n",
    "print(map(cubo,lista))\n",
    "#toca convertirla en una lista,recorre y hace lo que se le definio en la funcion\n",
    "print(list(map(cubo,lista)))\n",
    "\n",
    "mayor= lambda i=0:i>2#Devuelve un booleano \n",
    "# Devuelve los que son mayores que dos\n",
    "print(list(filter(mayor,lista)))\n",
    "\n",
    "#Reduce: es del modulo functools\n",
    "#Devuelve un resultado\n",
    "\n",
    "from functools import reduce\n",
    "red=lambda acum=0,elem=0:acum+elem #tiene un acumulador y se va sumando con cada elemento\n",
    "print(reduce(red,lista))\n",
    "\n",
    "\n",
    "lista2=['hola','biemvenidos','a','mision','TIC']\n",
    "red=lambda acum='',elem='':acum+' '+elem\n",
    "\n",
    "print(reduce(red,lista2))\n",
    "\n",
    "\n",
    "print(list(zip(lista2,lista)))#toca conventila a lista devuelve u nobjeto el zip\n",
    "a=(list(zip(lista2,lista))) #combina las dos listas\n",
    "print(a)\n",
    "print(list(zip(*a)))#crea tuplas de cada lista pasada"
   ]
  },
  {
   "cell_type": "code",
   "execution_count": 2,
   "metadata": {},
   "outputs": [
    {
     "name": "stdout",
     "output_type": "stream",
     "text": [
      "False all con lista\n",
      "False all con lista2\n",
      "False\n"
     ]
    }
   ],
   "source": [
    "#Any all\n",
    "lista=[True,True,False,True]\n",
    "#any busca que halla un verdadero o un falso almenos \n",
    "# all devuelve true cuando todos son true\n",
    "\n",
    "lista2=[False,False,False,False]\n",
    "print(all(lista), 'all con lista')\n",
    "print(all(lista2), 'all con lista2')\n",
    "print(any(lista2))"
   ]
  },
  {
   "cell_type": "code",
   "execution_count": null,
   "metadata": {},
   "outputs": [],
   "source": [
    "#numpy\n",
    "import numpy as np\n",
    "a=np.array([[1,2,3,4,5,6,7,8],[1,2,3,4,5,6,7,8]])\n",
    "b=np.array([[1,2,3,4,5,6,7,8],[1,2,3,4,5,6,7,8]])\n",
    "a[:,5]#muestrame todas las pocicones hasta 5\n",
    "a[0,1:5]#los : es hasta \n",
    "\n",
    "print('la suma de a con b',a+b)\n",
    "print('la divicion de a con b',a/b)\n",
    "print('la potencia de a con b',a**b)\n",
    "\n",
    "#intercambiar filas con columnas\n",
    "print(a,'\\n',a.T)\n",
    "# [[1 1]\n",
    "#  [2 2]\n",
    "#  [3 3]\n",
    "#  [4 4]\n",
    "#  [5 5]\n",
    "#  [6 6]\n",
    "#  [7 7]\n",
    "#  [8 8]]\n",
    "#shape,tamaño de la matriz \n",
    "\n"
   ]
  },
  {
   "cell_type": "code",
   "execution_count": null,
   "metadata": {},
   "outputs": [],
   "source": [
    "#Pandas - series- dataframe-describe-loc(indices)-iloc(indimplicito)-pop-append -where\n",
    "import pandas as pd\n",
    "lista=[10,20,30,40]\n",
    "s=pd.Series(data=lista,index=['ene','feb','mar','abr'],name='meses')#name nombre de las filas\n",
    "    #data son los datos    #es el nombre de las listas #name nombre de la columna\n",
    "#serie es una matriz de tipo columna \n",
    "\n",
    "\n",
    "se=pd.Series(data=lista,name='meses')\n",
    "# se\n",
    "# s\n",
    "\n",
    "s.loc('ene')#se pone el indice de la fila que necesita \n",
    "s.iloc(3)#le pongo el nombre la la fila \n",
    "\n",
    "\n",
    "dic={'nombre':['luis','pedro','ana'],'apellidos':['salas','ramirez','palacios']}\n",
    "dic.DataFrame(dic,index=['a1','a2','a3'])\n",
    "dic"
   ]
  },
  {
   "cell_type": "code",
   "execution_count": 18,
   "metadata": {},
   "outputs": [
    {
     "ename": "TypeError",
     "evalue": "'int' object is not subscriptable",
     "output_type": "error",
     "traceback": [
      "\u001b[1;31m---------------------------------------------------------------------------\u001b[0m",
      "\u001b[1;31mTypeError\u001b[0m                                 Traceback (most recent call last)",
      "\u001b[1;32md:\\MINTIC\\Ciclo1\\Fundamentos_de_programacion\\MisionTIC-2022-R2-Ciclo1-Fundamentos_de_Programacion\\clase13\\ejerciciosClase.ipynb Cell 6'\u001b[0m in \u001b[0;36m<cell line: 49>\u001b[1;34m()\u001b[0m\n\u001b[0;32m     <a href='vscode-notebook-cell:/d%3A/MINTIC/Ciclo1/Fundamentos_de_programacion/MisionTIC-2022-R2-Ciclo1-Fundamentos_de_Programacion/clase13/ejerciciosClase.ipynb#ch0000005?line=44'>45</a>\u001b[0m     \u001b[39m# print('coma de miles{:,.2f}\\n'.format(final[0][1]))\u001b[39;00m\n\u001b[0;32m     <a href='vscode-notebook-cell:/d%3A/MINTIC/Ciclo1/Fundamentos_de_programacion/MisionTIC-2022-R2-Ciclo1-Fundamentos_de_Programacion/clase13/ejerciciosClase.ipynb#ch0000005?line=45'>46</a>\u001b[0m     \u001b[39mprint\u001b[39m(\u001b[39m'\u001b[39m\u001b[39m----------------- Fin Registro diario -----------------------------\u001b[39m\u001b[39m'\u001b[39m)\n\u001b[1;32m---> <a href='vscode-notebook-cell:/d%3A/MINTIC/Ciclo1/Fundamentos_de_programacion/MisionTIC-2022-R2-Ciclo1-Fundamentos_de_Programacion/clase13/ejerciciosClase.ipynb#ch0000005?line=48'>49</a>\u001b[0m ordenes([ \n\u001b[0;32m     <a href='vscode-notebook-cell:/d%3A/MINTIC/Ciclo1/Fundamentos_de_programacion/MisionTIC-2022-R2-Ciclo1-Fundamentos_de_Programacion/clase13/ejerciciosClase.ipynb#ch0000005?line=49'>50</a>\u001b[0m  [\u001b[39m1201\u001b[39;49m, (\u001b[39m\"\u001b[39;49m\u001b[39m5464\u001b[39;49m\u001b[39m\"\u001b[39;49m, \u001b[39m4\u001b[39;49m, \u001b[39m25842.99\u001b[39;49m), (\u001b[39m\"\u001b[39;49m\u001b[39m7854\u001b[39;49m\u001b[39m\"\u001b[39;49m,\u001b[39m18\u001b[39;49m,\u001b[39m23254.99\u001b[39;49m), (\u001b[39m\"\u001b[39;49m\u001b[39m8521\u001b[39;49m\u001b[39m\"\u001b[39;49m, \u001b[39m9\u001b[39;49m, \u001b[39m48951.95\u001b[39;49m)], \n\u001b[0;32m     <a href='vscode-notebook-cell:/d%3A/MINTIC/Ciclo1/Fundamentos_de_programacion/MisionTIC-2022-R2-Ciclo1-Fundamentos_de_Programacion/clase13/ejerciciosClase.ipynb#ch0000005?line=50'>51</a>\u001b[0m  [\u001b[39m1202\u001b[39;49m, (\u001b[39m\"\u001b[39;49m\u001b[39m8756\u001b[39;49m\u001b[39m\"\u001b[39;49m, \u001b[39m3\u001b[39;49m, \u001b[39m115362.58\u001b[39;49m),(\u001b[39m\"\u001b[39;49m\u001b[39m1112\u001b[39;49m\u001b[39m\"\u001b[39;49m,\u001b[39m18\u001b[39;49m,\u001b[39m2354.99\u001b[39;49m)],\n\u001b[0;32m     <a href='vscode-notebook-cell:/d%3A/MINTIC/Ciclo1/Fundamentos_de_programacion/MisionTIC-2022-R2-Ciclo1-Fundamentos_de_Programacion/clase13/ejerciciosClase.ipynb#ch0000005?line=51'>52</a>\u001b[0m  [\u001b[39m1203\u001b[39;49m, (\u001b[39m\"\u001b[39;49m\u001b[39m2547\u001b[39;49m\u001b[39m\"\u001b[39;49m, \u001b[39m1\u001b[39;49m, \u001b[39m125698.20\u001b[39;49m), (\u001b[39m\"\u001b[39;49m\u001b[39m2635\u001b[39;49m\u001b[39m\"\u001b[39;49m, \u001b[39m2\u001b[39;49m, \u001b[39m135645.20\u001b[39;49m), (\u001b[39m\"\u001b[39;49m\u001b[39m1254\u001b[39;49m\u001b[39m\"\u001b[39;49m, \u001b[39m1\u001b[39;49m, \u001b[39m13645.20\u001b[39;49m),(\u001b[39m\"\u001b[39;49m\u001b[39m9965\u001b[39;49m\u001b[39m\"\u001b[39;49m, \u001b[39m5\u001b[39;49m, \u001b[39m1645.20\u001b[39;49m)],\n\u001b[0;32m     <a href='vscode-notebook-cell:/d%3A/MINTIC/Ciclo1/Fundamentos_de_programacion/MisionTIC-2022-R2-Ciclo1-Fundamentos_de_Programacion/clase13/ejerciciosClase.ipynb#ch0000005?line=52'>53</a>\u001b[0m  [\u001b[39m1204\u001b[39;49m, (\u001b[39m\"\u001b[39;49m\u001b[39m9635\u001b[39;49m\u001b[39m\"\u001b[39;49m, \u001b[39m7\u001b[39;49m, \u001b[39m11.99\u001b[39;49m), (\u001b[39m\"\u001b[39;49m\u001b[39m7733\u001b[39;49m\u001b[39m\"\u001b[39;49m,\u001b[39m11\u001b[39;49m,\u001b[39m18.99\u001b[39;49m), (\u001b[39m\"\u001b[39;49m\u001b[39m88112\u001b[39;49m\u001b[39m\"\u001b[39;49m, \u001b[39m5\u001b[39;49m, \u001b[39m390.95\u001b[39;49m)]])\n",
      "\u001b[1;32md:\\MINTIC\\Ciclo1\\Fundamentos_de_programacion\\MisionTIC-2022-R2-Ciclo1-Fundamentos_de_Programacion\\clase13\\ejerciciosClase.ipynb Cell 6'\u001b[0m in \u001b[0;36mordenes\u001b[1;34m(rutinaContable)\u001b[0m\n\u001b[0;32m     <a href='vscode-notebook-cell:/d%3A/MINTIC/Ciclo1/Fundamentos_de_programacion/MisionTIC-2022-R2-Ciclo1-Fundamentos_de_Programacion/clase13/ejerciciosClase.ipynb#ch0000005?line=35'>36</a>\u001b[0m \u001b[39m#guarda el nuemro de factura con el totalfinal\u001b[39;00m\n\u001b[0;32m     <a href='vscode-notebook-cell:/d%3A/MINTIC/Ciclo1/Fundamentos_de_programacion/MisionTIC-2022-R2-Ciclo1-Fundamentos_de_Programacion/clase13/ejerciciosClase.ipynb#ch0000005?line=36'>37</a>\u001b[0m total\u001b[39m=\u001b[39m\u001b[39mlist\u001b[39m(\u001b[39mzip\u001b[39m(numeroFactura,totalFacturaConAdicional))  \n\u001b[1;32m---> <a href='vscode-notebook-cell:/d%3A/MINTIC/Ciclo1/Fundamentos_de_programacion/MisionTIC-2022-R2-Ciclo1-Fundamentos_de_Programacion/clase13/ejerciciosClase.ipynb#ch0000005?line=38'>39</a>\u001b[0m final\u001b[39m=\u001b[39m\u001b[39mlist\u001b[39;49m(\u001b[39mmap\u001b[39;49m(retorno,total))\n\u001b[0;32m     <a href='vscode-notebook-cell:/d%3A/MINTIC/Ciclo1/Fundamentos_de_programacion/MisionTIC-2022-R2-Ciclo1-Fundamentos_de_Programacion/clase13/ejerciciosClase.ipynb#ch0000005?line=41'>42</a>\u001b[0m \u001b[39mprint\u001b[39m(\u001b[39m'\u001b[39m\u001b[39m----------------- Inicio Registro diario --------------------------\u001b[39m\u001b[39m'\u001b[39m)\n\u001b[0;32m     <a href='vscode-notebook-cell:/d%3A/MINTIC/Ciclo1/Fundamentos_de_programacion/MisionTIC-2022-R2-Ciclo1-Fundamentos_de_Programacion/clase13/ejerciciosClase.ipynb#ch0000005?line=42'>43</a>\u001b[0m \u001b[39m# print(\"La factura \"+ str(total[0][0]) + \" tiene un registro en pesos de \" + str(total[0][1]))\u001b[39;00m\n",
      "\u001b[1;32md:\\MINTIC\\Ciclo1\\Fundamentos_de_programacion\\MisionTIC-2022-R2-Ciclo1-Fundamentos_de_Programacion\\clase13\\ejerciciosClase.ipynb Cell 6'\u001b[0m in \u001b[0;36mordenes.<locals>.<lambda>\u001b[1;34m(lista)\u001b[0m\n\u001b[0;32m     <a href='vscode-notebook-cell:/d%3A/MINTIC/Ciclo1/Fundamentos_de_programacion/MisionTIC-2022-R2-Ciclo1-Fundamentos_de_Programacion/clase13/ejerciciosClase.ipynb#ch0000005?line=16'>17</a>\u001b[0m op5\u001b[39m=\u001b[39m \u001b[39mlambda\u001b[39;00m lista\u001b[39m=\u001b[39m\u001b[39m0\u001b[39m: lista[\u001b[39m0\u001b[39m]\n\u001b[0;32m     <a href='vscode-notebook-cell:/d%3A/MINTIC/Ciclo1/Fundamentos_de_programacion/MisionTIC-2022-R2-Ciclo1-Fundamentos_de_Programacion/clase13/ejerciciosClase.ipynb#ch0000005?line=18'>19</a>\u001b[0m \u001b[39m#prepara el retorno\u001b[39;00m\n\u001b[1;32m---> <a href='vscode-notebook-cell:/d%3A/MINTIC/Ciclo1/Fundamentos_de_programacion/MisionTIC-2022-R2-Ciclo1-Fundamentos_de_Programacion/clase13/ejerciciosClase.ipynb#ch0000005?line=19'>20</a>\u001b[0m retorno\u001b[39m=\u001b[39m\u001b[39mlambda\u001b[39;00m lista\u001b[39m=\u001b[39m\u001b[39m0\u001b[39m: \u001b[39mlist\u001b[39;49m(\u001b[39mmap\u001b[39;49m(\u001b[39mlambda\u001b[39;49;00m tupla\u001b[39m=\u001b[39;49m\u001b[39m0\u001b[39;49m:\u001b[39m\"\u001b[39;49m\u001b[39mLa factura \u001b[39;49m\u001b[39m\"\u001b[39;49m\u001b[39m+\u001b[39;49m \u001b[39mstr\u001b[39;49m(tupla[\u001b[39m0\u001b[39;49m]) \u001b[39m+\u001b[39;49m \u001b[39m\"\u001b[39;49m\u001b[39mtiene un registro en pesos de \u001b[39;49m\u001b[39m\"\u001b[39;49m \u001b[39m+\u001b[39;49m \u001b[39mstr\u001b[39;49m(tupla[\u001b[39m1\u001b[39;49m]),lista))\n\u001b[0;32m     <a href='vscode-notebook-cell:/d%3A/MINTIC/Ciclo1/Fundamentos_de_programacion/MisionTIC-2022-R2-Ciclo1-Fundamentos_de_Programacion/clase13/ejerciciosClase.ipynb#ch0000005?line=20'>21</a>\u001b[0m \u001b[39m#quitar el codigo de la factura \u001b[39;00m\n\u001b[0;32m     <a href='vscode-notebook-cell:/d%3A/MINTIC/Ciclo1/Fundamentos_de_programacion/MisionTIC-2022-R2-Ciclo1-Fundamentos_de_Programacion/clase13/ejerciciosClase.ipynb#ch0000005?line=21'>22</a>\u001b[0m tuplasinNumeroDeFactura\u001b[39m=\u001b[39m\u001b[39mlist\u001b[39m(\u001b[39mmap\u001b[39m(op1,rutinaContable))\n",
      "\u001b[1;32md:\\MINTIC\\Ciclo1\\Fundamentos_de_programacion\\MisionTIC-2022-R2-Ciclo1-Fundamentos_de_Programacion\\clase13\\ejerciciosClase.ipynb Cell 6'\u001b[0m in \u001b[0;36mordenes.<locals>.<lambda>\u001b[1;34m(tupla)\u001b[0m\n\u001b[0;32m     <a href='vscode-notebook-cell:/d%3A/MINTIC/Ciclo1/Fundamentos_de_programacion/MisionTIC-2022-R2-Ciclo1-Fundamentos_de_Programacion/clase13/ejerciciosClase.ipynb#ch0000005?line=16'>17</a>\u001b[0m op5\u001b[39m=\u001b[39m \u001b[39mlambda\u001b[39;00m lista\u001b[39m=\u001b[39m\u001b[39m0\u001b[39m: lista[\u001b[39m0\u001b[39m]\n\u001b[0;32m     <a href='vscode-notebook-cell:/d%3A/MINTIC/Ciclo1/Fundamentos_de_programacion/MisionTIC-2022-R2-Ciclo1-Fundamentos_de_Programacion/clase13/ejerciciosClase.ipynb#ch0000005?line=18'>19</a>\u001b[0m \u001b[39m#prepara el retorno\u001b[39;00m\n\u001b[1;32m---> <a href='vscode-notebook-cell:/d%3A/MINTIC/Ciclo1/Fundamentos_de_programacion/MisionTIC-2022-R2-Ciclo1-Fundamentos_de_Programacion/clase13/ejerciciosClase.ipynb#ch0000005?line=19'>20</a>\u001b[0m retorno\u001b[39m=\u001b[39m\u001b[39mlambda\u001b[39;00m lista\u001b[39m=\u001b[39m\u001b[39m0\u001b[39m: \u001b[39mlist\u001b[39m(\u001b[39mmap\u001b[39m(\u001b[39mlambda\u001b[39;00m tupla\u001b[39m=\u001b[39m\u001b[39m0\u001b[39m:\u001b[39m\"\u001b[39m\u001b[39mLa factura \u001b[39m\u001b[39m\"\u001b[39m\u001b[39m+\u001b[39m \u001b[39mstr\u001b[39m(tupla[\u001b[39m0\u001b[39;49m]) \u001b[39m+\u001b[39m \u001b[39m\"\u001b[39m\u001b[39mtiene un registro en pesos de \u001b[39m\u001b[39m\"\u001b[39m \u001b[39m+\u001b[39m \u001b[39mstr\u001b[39m(tupla[\u001b[39m1\u001b[39m]),lista))\n\u001b[0;32m     <a href='vscode-notebook-cell:/d%3A/MINTIC/Ciclo1/Fundamentos_de_programacion/MisionTIC-2022-R2-Ciclo1-Fundamentos_de_Programacion/clase13/ejerciciosClase.ipynb#ch0000005?line=20'>21</a>\u001b[0m \u001b[39m#quitar el codigo de la factura \u001b[39;00m\n\u001b[0;32m     <a href='vscode-notebook-cell:/d%3A/MINTIC/Ciclo1/Fundamentos_de_programacion/MisionTIC-2022-R2-Ciclo1-Fundamentos_de_Programacion/clase13/ejerciciosClase.ipynb#ch0000005?line=21'>22</a>\u001b[0m tuplasinNumeroDeFactura\u001b[39m=\u001b[39m\u001b[39mlist\u001b[39m(\u001b[39mmap\u001b[39m(op1,rutinaContable))\n",
      "\u001b[1;31mTypeError\u001b[0m: 'int' object is not subscriptable"
     ]
    }
   ],
   "source": [
    "from functools import reduce\n",
    "def ordenes(rutinaContable):\n",
    "    \n",
    "    #va acontener de uno en adelante sin el numero de registro     \n",
    "    op1=lambda rutinaContable=0:rutinaContable[1:]\n",
    "    \n",
    "    #recorre la lista y multiplica la cantidad por el precio unitario \n",
    "    op2=lambda lista=0:list(map(lambda num: num[1]*num[2],lista))\n",
    "    \n",
    "    # suma el total de las tuplas de cada factura\n",
    "    op3= lambda lista=0:reduce(lambda acum=0, elem=0: acum+elem,lista)\n",
    "    \n",
    "    #mira si el valor de cada factura es menor a 600.000 pesos y le suma 25.000 pesos y lo redondea a 2 decimales\n",
    "    op4=lambda factura=0:round(factura+25000,2) if factura<600000 else round(factura,2)\n",
    "    \n",
    "    #recorre la lista y guarda el primer elemento, que es el numero de factura\n",
    "    op5= lambda lista=0: lista[0]\n",
    "    \n",
    "    #prepara el retorno\n",
    "    retorno=lambda lista=0: list(map(lambda tupla=0:\"La factura \"+ str(tupla[0]) + \"tiene un registro en pesos de \" + str(tupla[1]),lista))\n",
    "    #quitar el codigo de la factura \n",
    "    tuplasinNumeroDeFactura=list(map(op1,rutinaContable))\n",
    "    \n",
    "    #recorrer la lista y hacer la multiplicacion\n",
    "    listaMultiplicadaPorCantidad=list(map(op2,tuplasinNumeroDeFactura))\n",
    "    \n",
    "    #sumar los elementos de cada pocicion de la lista \n",
    "    totalFactura=list(map(op3,listaMultiplicadaPorCantidad))\n",
    "    \n",
    "    #sumar 25000 si es emenor a 600000 y redondear a 2 cifras significativas \n",
    "    totalFacturaConAdicional=list(map(op4,totalFactura))\n",
    "    \n",
    "    #guarda el numero de factura\n",
    "    numeroFactura=list(map(op5,rutinaContable)) \n",
    "    \n",
    "    #guarda el nuemro de factura con el totalfinal\n",
    "    total=list(zip(numeroFactura,totalFacturaConAdicional))  \n",
    "    \n",
    "    final=list(map(retorno,total))\n",
    "    \n",
    "    \n",
    "    print('----------------- Inicio Registro diario --------------------------')\n",
    "    # print(\"La factura \"+ str(total[0][0]) + \" tiene un registro en pesos de \" + str(total[0][1]))\n",
    "    print(final)\n",
    "    # print('coma de miles{:,.2f}\\n'.format(final[0][1]))\n",
    "    print('----------------- Fin Registro diario -----------------------------')\n",
    "\n",
    "\n",
    "ordenes([ \n",
    " [1201, (\"5464\", 4, 25842.99), (\"7854\",18,23254.99), (\"8521\", 9, 48951.95)], \n",
    " [1202, (\"8756\", 3, 115362.58),(\"1112\",18,2354.99)],\n",
    " [1203, (\"2547\", 1, 125698.20), (\"2635\", 2, 135645.20), (\"1254\", 1, 13645.20),(\"9965\", 5, 1645.20)],\n",
    " [1204, (\"9635\", 7, 11.99), (\"7733\",11,18.99), (\"88112\", 5, 390.95)]])"
   ]
  },
  {
   "cell_type": "code",
   "execution_count": 17,
   "metadata": {},
   "outputs": [],
   "source": [
    "from functools import reduce\n",
    "def ordenes(rutinaContable):\n",
    "    rt=rutinaContable\n",
    "    red=lambda acum=0,elem=0:acum+elem\n",
    "    op1=lambda val1=0:val1[1:]\n",
    "    op2=lambda val2=0:list(map(lambda val3=0:val3[1]*val3[2],val2))\n",
    "    op3=lambda val4=0:reduce(red,val4)\n",
    "    op4=lambda val5=0:round(val5+25000,2) if val5<600000 else round(val5,2)\n",
    "    op5=lambda val6=0:val6[0]\n",
    "    \n",
    "    #quitar el codigo de la factura\n",
    "    res1=list(map(op1,rt))\n",
    "    #recorrer la lista y hacer la multiplicación\n",
    "    res2=list(map(op2,res1))\n",
    "    #sumar los elementos de cada posicion de la lista\n",
    "    res3=list(map(op3,res2))\n",
    "    #sumar 25000 si es menor a 600000 y redondear a dos cifras\n",
    "    res4=list(map(op4,res3))\n",
    "    et=list(map(op5,rt))\n",
    "    final=list(zip(et,res4))\n",
    "    print('----------------- Inicio Registro diario --------------------------')\n",
    "    print('coma de miles {:,.2f}'.format(final[2][1]))\n",
    "    print('----------------- Fin Registro diario -----------------------------')\n"
   ]
  }
 ],
 "metadata": {
  "interpreter": {
   "hash": "ad2bdc8ecc057115af97d19610ffacc2b4e99fae6737bb82f5d7fb13d2f2c186"
  },
  "kernelspec": {
   "display_name": "Python 3.9.12",
   "language": "python",
   "name": "python3"
  },
  "language_info": {
   "codemirror_mode": {
    "name": "ipython",
    "version": 3
   },
   "file_extension": ".py",
   "mimetype": "text/x-python",
   "name": "python",
   "nbconvert_exporter": "python",
   "pygments_lexer": "ipython3",
   "version": "3.9.12"
  },
  "orig_nbformat": 4
 },
 "nbformat": 4,
 "nbformat_minor": 2
}
