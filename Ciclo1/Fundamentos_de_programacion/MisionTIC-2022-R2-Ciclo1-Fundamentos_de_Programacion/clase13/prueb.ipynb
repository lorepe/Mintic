{
 "cells": [
  {
   "cell_type": "code",
   "execution_count": 2,
   "metadata": {},
   "outputs": [
    {
     "name": "stdout",
     "output_type": "stream",
     "text": [
      "hola migue\n"
     ]
    }
   ],
   "source": [
    "print(\"hola migue\")"
   ]
  },
  {
   "cell_type": "code",
   "execution_count": 24,
   "metadata": {},
   "outputs": [
    {
     "name": "stdout",
     "output_type": "stream",
     "text": [
      "0.311\n",
      "0.31\n"
     ]
    }
   ],
   "source": [
    "funcion= lambda numero : numero+10 if numero>2 else numero\n",
    "\n",
    "lista=[1,2,3,4,5]\n",
    "\n",
    "# print(list(map(funcion,lista)))\n",
    "print(1.555/5)\n",
    "print(round(1.555/5,2))\n",
    "\n"
   ]
  },
  {
   "cell_type": "code",
   "execution_count": 17,
   "metadata": {},
   "outputs": [],
   "source": [
    "from functools import reduce\n",
    "def ordenes(rutinaContable):\n",
    "    #va acontener de uno en adelante sin el numero de registro     \n",
    "    op1=lambda rutinaContable=0:rutinaContable[1:]\n",
    "    \n",
    "    #recorre la lista y multiplica la cantidad por el precio unitario \n",
    "    op2=lambda lista=0:list(map(lambda num: num[1]*num[2],lista))\n",
    "    \n",
    "    # suma el total de las tuplas de cada factura\n",
    "    op3= lambda lista=0:reduce(lambda acum=0, elem=0: acum+elem,lista)\n",
    "    \n",
    "    #mira si el valor de cada factura es menor a 600.000 pesos y le suma 25.000 pesos y lo redondea a 2 decimales\n",
    "    op4=lambda factura=0:round(factura+25000,2) if factura<600000 else round(factura,2)\n",
    "    \n",
    "    #recorre la lista y guarda el primer elemento, que es el numero de factura\n",
    "    op5= lambda lista=0: lista[0]\n",
    "    \n",
    "    #prepara el retorno\n",
    "    string=lambda lista=0: \"La factura {} tiene un total en pesos de {:,.2f}\".format(lista[0],lista[1])\n",
    "       \n",
    "    #quitar el codigo de la factura \n",
    "    tuplasinNumeroDeFactura=list(map(op1,rutinaContable))\n",
    "    \n",
    "    #recorrer la lista y hacer la multiplicacion\n",
    "    listaMultiplicadaPorCantidad=list(map(op2,tuplasinNumeroDeFactura))\n",
    "    \n",
    "    #sumar los elementos de cada pocicion de la lista \n",
    "    totalFactura=list(map(op3,listaMultiplicadaPorCantidad))\n",
    "    \n",
    "    #sumar 25000 si es emenor a 600000 y redondear a 2 cifras significativas \n",
    "    totalFacturaConAdicional=list(map(op4,totalFactura))\n",
    "    \n",
    "    #guarda el numero de factura\n",
    "    numeroFactura=list(map(op5,rutinaContable)) \n",
    "    \n",
    "    #guarda el nuemro de factura con el totalfinal\n",
    "    total=list(zip(numeroFactura,totalFacturaConAdicional))  \n",
    "    \n",
    "    lista=list(map(string,total))\n",
    "    \n",
    "    print('----------------- Inicio Registro diario --------------------------')\n",
    "    # print(\"La factura \"+ str(total[0][0]) + \" tiene un registro en pesos de \" + str(total[0][1]))\n",
    "    # print(lista)\n",
    "    # for i in lista:\n",
    "    #     print(i)\n",
    "    print(listaMultiplicadaPorCantidad)\n",
    "    # print('coma de miles{:,.2f}\\n'.format(final[0][1]))\n",
    "    print('----------------- Fin Registro diario -----------------------------')\n",
    "    \n",
    "    ordenes([[6587, (\"3268\", 4, 25842.99), (\"8274\",18,23254.99), (\"6548\", 9, 48951.95), (\"2547\", 5, 8951.95)],[6588, (\"1254\", 3, 115362.58), (\"9744\", 2, 99235.66)]])"
   ]
  }
 ],
 "metadata": {
  "interpreter": {
   "hash": "7f3065018bcd7bf6e0950978e0d0e3ee9e95750492171c14e129968bd54495c4"
  },
  "kernelspec": {
   "display_name": "Python 3.10.3 64-bit",
   "language": "python",
   "name": "python3"
  },
  "language_info": {
   "codemirror_mode": {
    "name": "ipython",
    "version": 3
   },
   "file_extension": ".py",
   "mimetype": "text/x-python",
   "name": "python",
   "nbconvert_exporter": "python",
   "pygments_lexer": "ipython3",
   "version": "3.10.3"
  },
  "orig_nbformat": 4
 },
 "nbformat": 4,
 "nbformat_minor": 2
}
