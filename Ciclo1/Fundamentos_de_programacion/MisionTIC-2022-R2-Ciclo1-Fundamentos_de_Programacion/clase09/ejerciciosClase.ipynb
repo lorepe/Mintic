{
 "cells": [
  {
   "cell_type": "code",
   "execution_count": 2,
   "metadata": {},
   "outputs": [
    {
     "name": "stdout",
     "output_type": "stream",
     "text": [
      "Posicion 1 {'nombre': 'Laura', 'apellido': 'castro'}\n",
      "posicion 2 {'nombre': 'Juan', 'apellido': 'Perez'}\n"
     ]
    }
   ],
   "source": [
    "# Conjunto\n",
    "conjunto={'1',2,True}\n",
    "conjunto= set() #tengo que especificar que es una instacia de tipo set para crear un conjunto vacio \n",
    "diccionario={'clave':'valor'} #los dccionarios a diferencia de los conjuntos necesitan una clave para cada valor con los : \n",
    "\n",
    "dic={'Posicion 1':{'nombre':'Laura','apellido':'castro'},\n",
    "     'posicion 2':{'nombre':'Juan','apellido':'Perez'}}\n",
    "\n",
    "for i,k in dic.items():\n",
    "    print(i, k)\n",
    "    \n"
   ]
  },
  {
   "cell_type": "code",
   "execution_count": 8,
   "metadata": {},
   "outputs": [
    {
     "ename": "ValueError",
     "evalue": "invalid literal for int() with base 10: ''",
     "output_type": "error",
     "traceback": [
      "\u001b[1;31m---------------------------------------------------------------------------\u001b[0m",
      "\u001b[1;31mValueError\u001b[0m                                Traceback (most recent call last)",
      "\u001b[1;32md:\\MINTIC\\Ciclo1\\Fundamentos_de_programacion\\MisionTIC-2022-R2-Ciclo1-Fundamentos_de_Programacion\\clase09\\ejerciciosClase.ipynb Cell 2'\u001b[0m in \u001b[0;36m<cell line: 3>\u001b[1;34m()\u001b[0m\n\u001b[0;32m      <a href='vscode-notebook-cell:/d%3A/MINTIC/Ciclo1/Fundamentos_de_programacion/MisionTIC-2022-R2-Ciclo1-Fundamentos_de_Programacion/clase09/ejerciciosClase.ipynb#ch0000001?line=2'>3</a>\u001b[0m \u001b[39mfor\u001b[39;00m i \u001b[39min\u001b[39;00m \u001b[39mrange\u001b[39m(\u001b[39m0\u001b[39m,\u001b[39m5\u001b[39m):\n\u001b[0;32m      <a href='vscode-notebook-cell:/d%3A/MINTIC/Ciclo1/Fundamentos_de_programacion/MisionTIC-2022-R2-Ciclo1-Fundamentos_de_Programacion/clase09/ejerciciosClase.ipynb#ch0000001?line=3'>4</a>\u001b[0m     a\u001b[39m=\u001b[39m\u001b[39minput\u001b[39m(\u001b[39m'\u001b[39m\u001b[39mdigite el nombre: \u001b[39m\u001b[39m'\u001b[39m)\n\u001b[1;32m----> <a href='vscode-notebook-cell:/d%3A/MINTIC/Ciclo1/Fundamentos_de_programacion/MisionTIC-2022-R2-Ciclo1-Fundamentos_de_Programacion/clase09/ejerciciosClase.ipynb#ch0000001?line=4'>5</a>\u001b[0m     b\u001b[39m=\u001b[39m\u001b[39mint\u001b[39;49m(\u001b[39minput\u001b[39;49m(\u001b[39m'\u001b[39;49m\u001b[39mdigite la edad: \u001b[39;49m\u001b[39m'\u001b[39;49m))\n\u001b[0;32m      <a href='vscode-notebook-cell:/d%3A/MINTIC/Ciclo1/Fundamentos_de_programacion/MisionTIC-2022-R2-Ciclo1-Fundamentos_de_Programacion/clase09/ejerciciosClase.ipynb#ch0000001?line=5'>6</a>\u001b[0m     nombres\u001b[39m.\u001b[39mappend(a)\n\u001b[0;32m      <a href='vscode-notebook-cell:/d%3A/MINTIC/Ciclo1/Fundamentos_de_programacion/MisionTIC-2022-R2-Ciclo1-Fundamentos_de_Programacion/clase09/ejerciciosClase.ipynb#ch0000001?line=6'>7</a>\u001b[0m     edades\u001b[39m.\u001b[39mappend(b)\n",
      "\u001b[1;31mValueError\u001b[0m: invalid literal for int() with base 10: ''"
     ]
    }
   ],
   "source": [
    "nombres=[]\n",
    "edades=[]\n",
    "for i in range(0,5):\n",
    "    a=input('digite el nombre: ')\n",
    "    b=int(input('digite la edad: '))\n",
    "    nombres.append(a)\n",
    "    edades.append(b)\n",
    "\n",
    "print(nombres,edades)\n",
    "\n",
    "for i in range(5):\n",
    "    if edades[i]>=18:\n",
    "        print(nombres[i])\n",
    "\n",
    "\n",
    "for i in len(edades):\n",
    "    print(nombres[i])\n",
    "    \n",
    "\n",
    "    "
   ]
  },
  {
   "cell_type": "code",
   "execution_count": 10,
   "metadata": {},
   "outputs": [
    {
     "name": "stdout",
     "output_type": "stream",
     "text": [
      "4\n",
      "5\n",
      "6\n",
      "9\n",
      "7\n",
      "3\n"
     ]
    }
   ],
   "source": [
    "#Listas compuestas\n",
    "notas =[[4,5],[6,9],[7,3]]\n",
    "print(notas)\n",
    "print(notas[1])\n",
    "print(notas[0][1]) \n",
    "\n",
    "\n",
    "for i in range(len(notas[0])):\n",
    "    print(notas[i])\n",
    "    \n",
    "for i in range(len(notas)):\n",
    "    for k in range(len(notas[i])):\n",
    "        print(notas[i][k])"
   ]
  },
  {
   "cell_type": "code",
   "execution_count": null,
   "metadata": {},
   "outputs": [],
   "source": [
    "suma=0\n",
    "for i in range(len(notas)):\n",
    "    print()"
   ]
  },
  {
   "cell_type": "code",
   "execution_count": 21,
   "metadata": {},
   "outputs": [
    {
     "name": "stdout",
     "output_type": "stream",
     "text": [
      "nombre del padre y la madre con el de sus hijos\n",
      "Padre:  jose\n",
      "Madre:  maria\n",
      "hijos:  luis\n",
      "hijos:  jose\n",
      "hijos:  juanita\n"
     ]
    },
    {
     "ename": "IndexError",
     "evalue": "list index out of range",
     "output_type": "error",
     "traceback": [
      "\u001b[1;31m---------------------------------------------------------------------------\u001b[0m",
      "\u001b[1;31mIndexError\u001b[0m                                Traceback (most recent call last)",
      "\u001b[1;32md:\\MINTIC\\Ciclo1\\Fundamentos_de_programacion\\MisionTIC-2022-R2-Ciclo1-Fundamentos_de_Programacion\\clase09\\ejerciciosClase.ipynb Cell 5'\u001b[0m in \u001b[0;36m<cell line: 14>\u001b[1;34m()\u001b[0m\n\u001b[0;32m     <a href='vscode-notebook-cell:/d%3A/MINTIC/Ciclo1/Fundamentos_de_programacion/MisionTIC-2022-R2-Ciclo1-Fundamentos_de_Programacion/clase09/ejerciciosClase.ipynb#ch0000004?line=15'>16</a>\u001b[0m     \u001b[39mprint\u001b[39m(\u001b[39m'\u001b[39m\u001b[39mMadre: \u001b[39m\u001b[39m'\u001b[39m,padres[i][\u001b[39m1\u001b[39m])\n\u001b[0;32m     <a href='vscode-notebook-cell:/d%3A/MINTIC/Ciclo1/Fundamentos_de_programacion/MisionTIC-2022-R2-Ciclo1-Fundamentos_de_Programacion/clase09/ejerciciosClase.ipynb#ch0000004?line=16'>17</a>\u001b[0m     \u001b[39mfor\u001b[39;00m k \u001b[39min\u001b[39;00m \u001b[39mrange\u001b[39m(\u001b[39mlen\u001b[39m(hijos[i])):\n\u001b[1;32m---> <a href='vscode-notebook-cell:/d%3A/MINTIC/Ciclo1/Fundamentos_de_programacion/MisionTIC-2022-R2-Ciclo1-Fundamentos_de_Programacion/clase09/ejerciciosClase.ipynb#ch0000004?line=17'>18</a>\u001b[0m         \u001b[39mprint\u001b[39m(\u001b[39m'\u001b[39m\u001b[39mhijos: \u001b[39m\u001b[39m'\u001b[39m,hijos[k])\n\u001b[0;32m     <a href='vscode-notebook-cell:/d%3A/MINTIC/Ciclo1/Fundamentos_de_programacion/MisionTIC-2022-R2-Ciclo1-Fundamentos_de_Programacion/clase09/ejerciciosClase.ipynb#ch0000004?line=19'>20</a>\u001b[0m \u001b[39mprint\u001b[39m(\u001b[39m'\u001b[39m\u001b[39mNobre del padre con los nombres de sus hijos\u001b[39m\u001b[39m'\u001b[39m)\n\u001b[0;32m     <a href='vscode-notebook-cell:/d%3A/MINTIC/Ciclo1/Fundamentos_de_programacion/MisionTIC-2022-R2-Ciclo1-Fundamentos_de_Programacion/clase09/ejerciciosClase.ipynb#ch0000004?line=20'>21</a>\u001b[0m \u001b[39mfor\u001b[39;00m i \u001b[39min\u001b[39;00m \u001b[39mrange\u001b[39m(\u001b[39m3\u001b[39m):\n",
      "\u001b[1;31mIndexError\u001b[0m: list index out of range"
     ]
    }
   ],
   "source": [
    "padres=[]\n",
    "hijos=[]\n",
    "\n",
    "for i in range(3):\n",
    "    padre=input('ingrese nombre del padre: ')\n",
    "    madre=input('ingrese nombre del madre: ')\n",
    "    padres.append([padre,madre])\n",
    "    cant_hijos=int(input('¿Cuantos hijos tiene?: '))\n",
    "    for i in range(cant_hijos):\n",
    "        hijo=input('ingrese nombre del hijo: ')\n",
    "        hijos.append(hijo)\n",
    "\n",
    "print('nombre del padre y la madre con el de sus hijos')\n",
    "for i in range(3):\n",
    "    print('Padre: ',padres[i][0])\n",
    "    print('Madre: ',padres[i][1])\n",
    "    for k in range(len(hijos[i])):\n",
    "        print('hijos: ',hijos[i][k])\n",
    "      \n",
    "print('Nobre del padre con los nombres de sus hijos')\n",
    "for i in range(3):\n",
    "    print('Padre: ',padres[i][0])\n",
    "    for k in range(len(hijos[i])):\n",
    "        print('hijos: ', )"
   ]
  },
  {
   "cell_type": "code",
   "execution_count": null,
   "metadata": {},
   "outputs": [],
   "source": []
  }
 ],
 "metadata": {
  "interpreter": {
   "hash": "7f3065018bcd7bf6e0950978e0d0e3ee9e95750492171c14e129968bd54495c4"
  },
  "kernelspec": {
   "display_name": "Python 3.10.3 64-bit",
   "language": "python",
   "name": "python3"
  },
  "language_info": {
   "codemirror_mode": {
    "name": "ipython",
    "version": 3
   },
   "file_extension": ".py",
   "mimetype": "text/x-python",
   "name": "python",
   "nbconvert_exporter": "python",
   "pygments_lexer": "ipython3",
   "version": "3.10.3"
  },
  "orig_nbformat": 4
 },
 "nbformat": 4,
 "nbformat_minor": 2
}
