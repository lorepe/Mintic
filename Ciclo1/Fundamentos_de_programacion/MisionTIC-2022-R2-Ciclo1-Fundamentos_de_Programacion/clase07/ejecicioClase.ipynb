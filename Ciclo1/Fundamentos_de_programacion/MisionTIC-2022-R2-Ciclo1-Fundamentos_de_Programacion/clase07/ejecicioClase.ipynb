{
 "cells": [
  {
   "cell_type": "code",
   "execution_count": 1,
   "metadata": {},
   "outputs": [
    {
     "name": "stdout",
     "output_type": "stream",
     "text": [
      "{'a': 1, 'b': 2, 'c': 3}\n"
     ]
    }
   ],
   "source": [
    "dic={}\n",
    "dic['a']=1\n",
    "dic['b']=2\n",
    "dic['c']=3\n",
    "print(dic)"
   ]
  },
  {
   "cell_type": "code",
   "execution_count": 3,
   "metadata": {},
   "outputs": [
    {
     "name": "stdout",
     "output_type": "stream",
     "text": [
      "{'a': 1, 'b': 2, 'c': 3}\n"
     ]
    }
   ],
   "source": [
    "dicn={'a': 1, 'b': 2, 'c': 3}\n",
    "print(dicn)"
   ]
  },
  {
   "cell_type": "code",
   "execution_count": null,
   "metadata": {},
   "outputs": [],
   "source": [
    "if dic['a']==1:\n",
    "    print('es igual')\n",
    "else:\n",
    "    print('no es igual')\n",
    "if dic['b']==2:\n",
    "    print('es igual')\n",
    "elif dic['c']==3:\n",
    "    print('Es igual a ')"
   ]
  },
  {
   "cell_type": "code",
   "execution_count": 8,
   "metadata": {},
   "outputs": [
    {
     "name": "stdout",
     "output_type": "stream",
     "text": [
      "{'nombre': 'Johana Fernandez', 'edad': 20, 'atraccion': 'X-Treme', 'apto': True, 'primer_ingreso': True, 'total_boleta': 19000.0}\n",
      "{'nombre': 'Johana Fernandez', 'edad': 20, 'atraccion': 'X-Treme', 'apto': True, 'primer_ingreso': False, 'total_boleta': 20000}\n"
     ]
    },
    {
     "ename": "UnboundLocalError",
     "evalue": "local variable 'apto' referenced before assignment",
     "output_type": "error",
     "traceback": [
      "\u001b[1;31m---------------------------------------------------------------------------\u001b[0m",
      "\u001b[1;31mUnboundLocalError\u001b[0m                         Traceback (most recent call last)",
      "\u001b[1;32md:\\MINTIC\\Ciclo1\\Fundamentos_de_programacion\\MisionTIC-2022-R2-Ciclo1-Fundamentos_de_Programacion\\clase07\\ejecicioClase.ipynb Cell 4'\u001b[0m in \u001b[0;36m<cell line: 90>\u001b[1;34m()\u001b[0m\n\u001b[0;32m     <a href='vscode-notebook-cell:/d%3A/MINTIC/Ciclo1/Fundamentos_de_programacion/MisionTIC-2022-R2-Ciclo1-Fundamentos_de_Programacion/clase07/ejecicioClase.ipynb#ch0000003?line=87'>88</a>\u001b[0m \u001b[39mprint\u001b[39m(cliente(inf1))\n\u001b[0;32m     <a href='vscode-notebook-cell:/d%3A/MINTIC/Ciclo1/Fundamentos_de_programacion/MisionTIC-2022-R2-Ciclo1-Fundamentos_de_Programacion/clase07/ejecicioClase.ipynb#ch0000003?line=88'>89</a>\u001b[0m \u001b[39mprint\u001b[39m(cliente(inf2))\n\u001b[1;32m---> <a href='vscode-notebook-cell:/d%3A/MINTIC/Ciclo1/Fundamentos_de_programacion/MisionTIC-2022-R2-Ciclo1-Fundamentos_de_Programacion/clase07/ejecicioClase.ipynb#ch0000003?line=89'>90</a>\u001b[0m \u001b[39mprint\u001b[39m(cliente(inf3))\n\u001b[0;32m     <a href='vscode-notebook-cell:/d%3A/MINTIC/Ciclo1/Fundamentos_de_programacion/MisionTIC-2022-R2-Ciclo1-Fundamentos_de_Programacion/clase07/ejecicioClase.ipynb#ch0000003?line=90'>91</a>\u001b[0m \u001b[39mprint\u001b[39m(cliente(inf4))\n\u001b[0;32m     <a href='vscode-notebook-cell:/d%3A/MINTIC/Ciclo1/Fundamentos_de_programacion/MisionTIC-2022-R2-Ciclo1-Fundamentos_de_Programacion/clase07/ejecicioClase.ipynb#ch0000003?line=91'>92</a>\u001b[0m \u001b[39mprint\u001b[39m(cliente(inf5))\n",
      "\u001b[1;32md:\\MINTIC\\Ciclo1\\Fundamentos_de_programacion\\MisionTIC-2022-R2-Ciclo1-Fundamentos_de_Programacion\\clase07\\ejecicioClase.ipynb Cell 4'\u001b[0m in \u001b[0;36mcliente\u001b[1;34m(informacion)\u001b[0m\n\u001b[0;32m     <a href='vscode-notebook-cell:/d%3A/MINTIC/Ciclo1/Fundamentos_de_programacion/MisionTIC-2022-R2-Ciclo1-Fundamentos_de_Programacion/clase07/ejecicioClase.ipynb#ch0000003?line=23'>24</a>\u001b[0m     atraccion\u001b[39m=\u001b[39m\u001b[39m'\u001b[39m\u001b[39mN/A\u001b[39m\u001b[39m'\u001b[39m\n\u001b[0;32m     <a href='vscode-notebook-cell:/d%3A/MINTIC/Ciclo1/Fundamentos_de_programacion/MisionTIC-2022-R2-Ciclo1-Fundamentos_de_Programacion/clase07/ejecicioClase.ipynb#ch0000003?line=24'>25</a>\u001b[0m     total_boleta \u001b[39m=\u001b[39m \u001b[39m'\u001b[39m\u001b[39mN/A\u001b[39m\u001b[39m'\u001b[39m\n\u001b[1;32m---> <a href='vscode-notebook-cell:/d%3A/MINTIC/Ciclo1/Fundamentos_de_programacion/MisionTIC-2022-R2-Ciclo1-Fundamentos_de_Programacion/clase07/ejecicioClase.ipynb#ch0000003?line=25'>26</a>\u001b[0m resultado\u001b[39m=\u001b[39m{\u001b[39m'\u001b[39m\u001b[39mnombre\u001b[39m\u001b[39m'\u001b[39m:informacion[\u001b[39m'\u001b[39m\u001b[39mnombre\u001b[39m\u001b[39m'\u001b[39m],\u001b[39m'\u001b[39m\u001b[39medad\u001b[39m\u001b[39m'\u001b[39m:informacion[\u001b[39m'\u001b[39m\u001b[39medad\u001b[39m\u001b[39m'\u001b[39m],\u001b[39m'\u001b[39m\u001b[39matraccion\u001b[39m\u001b[39m'\u001b[39m:atraccion,\u001b[39m'\u001b[39m\u001b[39mapto\u001b[39m\u001b[39m'\u001b[39m:apto,\u001b[39m'\u001b[39m\u001b[39mprimer_ingreso\u001b[39m\u001b[39m'\u001b[39m:informacion[\u001b[39m'\u001b[39m\u001b[39mprimer_ingreso\u001b[39m\u001b[39m'\u001b[39m],\u001b[39m'\u001b[39m\u001b[39mtotal_boleta\u001b[39m\u001b[39m'\u001b[39m:total_boleta}\n\u001b[0;32m     <a href='vscode-notebook-cell:/d%3A/MINTIC/Ciclo1/Fundamentos_de_programacion/MisionTIC-2022-R2-Ciclo1-Fundamentos_de_Programacion/clase07/ejecicioClase.ipynb#ch0000003?line=26'>27</a>\u001b[0m \u001b[39mreturn\u001b[39;00m resultado\n",
      "\u001b[1;31mUnboundLocalError\u001b[0m: local variable 'apto' referenced before assignment"
     ]
    }
   ],
   "source": [
    "def cliente(informacion:dict)-> dict:\n",
    "    if informacion['edad']>18:\n",
    "        atraccion='X-Treme'\n",
    "        apto=True\n",
    "        if informacion['primer_ingreso']==True:\n",
    "            total_boleta = 20000 *0.95\n",
    "        else:\n",
    "            total_boleta = 20000\n",
    "    elif informacion['edad']>=15 and informacion['edad']<= 18:\n",
    "        atraccion='Carros chocones'\n",
    "        apto=True\n",
    "        if informacion['primer_ingreso'] == True:\n",
    "            total_boleta = 5000 - (5000*0.07)\n",
    "        else: \n",
    "            total_boleta = 5000\n",
    "    elif informacion['edad'] >=7 and informacion['edad'] <15:\n",
    "        atraccion='Sillas voladoras'\n",
    "        apto= True\n",
    "        if informacion['primer_ingreso'] == True:\n",
    "            total_boleta = 10000 - (10000*0.05)\n",
    "        else: \n",
    "            total_boleta = 10000\n",
    "    else: \n",
    "        atraccion='N/A'\n",
    "        total_boleta = 'N/A'\n",
    "    resultado={'nombre':informacion['nombre'],'edad':informacion['edad'],'atraccion':atraccion,'apto':apto,'primer_ingreso':informacion['primer_ingreso'],'total_boleta':total_boleta}\n",
    "    return resultado\n",
    "\n",
    "# inf={}\n",
    "# inf['id_cliente']=int(input('Digite el ID: '))\n",
    "# inf['nombre']=input('Digite el nombre: ')\n",
    "# inf['edad']=int(input('Digite la edad: '))\n",
    "# inf['primer_ingreso']=bool(input('primer ingreso (Si=True, No=False) '))\n",
    "\n",
    "inf1={\n",
    "    'id_cliente': 1,\n",
    "    'nombre': 'Johana Fernandez',\n",
    "    'edad': 20,\n",
    "    'primer_ingreso': True\n",
    "}\n",
    "\n",
    "\n",
    "inf2={\n",
    "    'id_cliente': 1,\n",
    "    'nombre': 'Johana Fernandez',\n",
    "    'edad': 20,\n",
    "    'primer_ingreso': False\n",
    "}\n",
    "\n",
    "\n",
    "inf3={\n",
    "    'id_cliente': 2,\n",
    "    'nombre': 'Gloria Suares',\n",
    "    'edad': 3,\n",
    "    'primer_ingreso': True\n",
    "}\n",
    "\n",
    "\n",
    "inf4={\n",
    "    'id_cliente': 3,\n",
    "    'nombre': 'Tatiana Suares',\n",
    "    'edad': 17,\n",
    "    'primer_ingreso': True\n",
    "}\n",
    "\n",
    "\n",
    "inf5={\n",
    "    'id_cliente': 3,\n",
    "    'nombre': 'Tatiana Suares',\n",
    "    'edad': 17,\n",
    "    'primer_ingreso': False\n",
    "}\n",
    "\n",
    "\n",
    "inf6={\n",
    "    'id_cliente': 4,\n",
    "    'nombre': 'Tatiana Ruiz',\n",
    "    'edad': 8,\n",
    "    'primer_ingreso': True\n",
    "}\n",
    "\n",
    "inf7={\n",
    "    'id_cliente': 4,\n",
    "    'nombre': 'Tatiana Ruiz',\n",
    "    'edad': 8,\n",
    "    'primer_ingreso': False\n",
    "}\n",
    "print(cliente(inf1))\n",
    "print(cliente(inf2))\n",
    "print(cliente(inf3))\n",
    "print(cliente(inf4))\n",
    "print(cliente(inf5))\n",
    "print(cliente(inf6))\n",
    "print(cliente(inf7))\n",
    "\n"
   ]
  },
  {
   "cell_type": "code",
   "execution_count": 4,
   "metadata": {},
   "outputs": [
    {
     "name": "stdout",
     "output_type": "stream",
     "text": [
      "0.07\n",
      "350.00000000000006\n",
      "4650.0\n"
     ]
    }
   ],
   "source": [
    "print(7/100)\n",
    "num= 5000*0.07\n",
    "print(num)\n",
    "var=5000-num\n",
    "print(var)"
   ]
  },
  {
   "cell_type": "code",
   "execution_count": null,
   "metadata": {},
   "outputs": [],
   "source": [
    "try:\n",
    "    a=int(input('digite un numero: '))\n",
    "    print(a)\n",
    "except:\n",
    "    print('No digito un numero')\n",
    "    \n",
    "print(1/0) #la division entre cero no esta definida\n",
    "\n",
    "try:\n",
    "    a=float(input('digite un numero: '))\n",
    "    b=float(input('digite un numero: '))\n",
    "    try:\n",
    "        c=a/b\n",
    "        print(c)\n",
    "    except:\n",
    "        print('la division entre cero no esta definida')\n",
    "except:\n",
    "    print('no digito un numero')\n"
   ]
  },
  {
   "cell_type": "code",
   "execution_count": null,
   "metadata": {},
   "outputs": [],
   "source": [
    "# strings\n",
    "a=\"fresa\"\n",
    "dir(a) #lista de metodos que puedo usar con un string(o la variable)\n",
    "print(len(a)) # longitud de un strings\n",
    "print(a[0:3]) #es como split solo toma la cantidad de caracteres que yo le indique\n",
    "print(a[3:3])\n",
    "print('a' in a) #devuelve un booleano, busca si esta la 'a' en la variable a\n",
    "print(a.upper())\n",
    "print(a.lower())\n",
    "b='Fresa fresa' #tiene en cuenta los espacios \n",
    "print(a.count('sa')) #\n",
    "print(a.find('sa'))#\n",
    "print(b.strip())#quita los espacios\n",
    "\n"
   ]
  },
  {
   "cell_type": "code",
   "execution_count": null,
   "metadata": {},
   "outputs": [],
   "source": [
    "camellos = 43\n",
    "caballos= 50\n",
    "print('la cantidad de camellos es: %d'%camellos)# con el %d le digo que imprima lo que luego asignare con % y el nombre de la variable\n",
    "print('los %d camellos'%camellos)\n",
    "print('los {} camellos y {} caballos'.format(camellos,caballos))#escribo las llaves y luego con .format(variable) le digo que variables van a ocupar el lugar de las llaves, en orden \n",
    "a='fresa'\n",
    "print(a*3) # me imprime 3 veces la variable a\n"
   ]
  },
  {
   "cell_type": "code",
   "execution_count": null,
   "metadata": {},
   "outputs": [],
   "source": [
    "i= input('digite el item a buscar: ')\n",
    "print(dic.get(i))#sirve para buscar un tipo de item en especifico en un diccionario\n"
   ]
  },
  {
   "cell_type": "markdown",
   "metadata": {},
   "source": [
    "Estructuras iterativas (While y For)"
   ]
  },
  {
   "cell_type": "code",
   "execution_count": 9,
   "metadata": {},
   "outputs": [],
   "source": [
    "# while X do Y\n",
    "n=10\n",
    "while n < 0:\n",
    "    print(n)\n",
    "    \n",
    "\n",
    "    "
   ]
  },
  {
   "cell_type": "code",
   "execution_count": null,
   "metadata": {},
   "outputs": [],
   "source": [
    "n=0\n",
    "while (n!=5) :#not (n==5) diferente a\n",
    "    print('bucle')\n",
    "    n=int(input('digite un numero: '))\n",
    "print('salio del bucle')"
   ]
  },
  {
   "cell_type": "code",
   "execution_count": null,
   "metadata": {},
   "outputs": [],
   "source": [
    "# continue vuelve a la condicion de while\n",
    "# break corta el ciclo, permite salir\n"
   ]
  },
  {
   "cell_type": "code",
   "execution_count": 10,
   "metadata": {},
   "outputs": [
    {
     "name": "stdout",
     "output_type": "stream",
     "text": [
      "Estamos en la iteracion0\n",
      "Estamos en la iteracion1\n",
      "Estamos en la iteracion2\n"
     ]
    }
   ],
   "source": [
    "# for desde donde voy iniciar hata donde voy a terminar \n",
    "for j in range(0,3):\n",
    "    print('Estamos en la iteracion ' + str(j))"
   ]
  },
  {
   "cell_type": "code",
   "execution_count": 12,
   "metadata": {},
   "outputs": [
    {
     "name": "stdout",
     "output_type": "stream",
     "text": [
      "La oracion analizada es:  Mary entiende my bien Python .\n",
      "\n",
      "5\n",
      "Plabra: Mary, en la frase se posicion es: 0\n",
      "Plabra: entiende, en la frase se posicion es: 1\n",
      "Plabra: my, en la frase se posicion es: 2\n",
      "Plabra: bien, en la frase se posicion es: 3\n",
      "Plabra: Python, en la frase se posicion es: 4\n"
     ]
    }
   ],
   "source": [
    "oracion='Mary entiende my bien Python'\n",
    "frases= oracion.split()\n",
    "print('La oracion analizada es: ', oracion, \".\\n\")\n",
    "print(len(frases))\n",
    "\n",
    "for palabra in range(len(frases)):\n",
    "    print('Plabra: {0}, en la frase se posicion es: {1}'.format(frases[palabra],palabra))"
   ]
  }
 ],
 "metadata": {
  "interpreter": {
   "hash": "7f3065018bcd7bf6e0950978e0d0e3ee9e95750492171c14e129968bd54495c4"
  },
  "kernelspec": {
   "display_name": "Python 3.10.3 64-bit",
   "language": "python",
   "name": "python3"
  },
  "language_info": {
   "codemirror_mode": {
    "name": "ipython",
    "version": 3
   },
   "file_extension": ".py",
   "mimetype": "text/x-python",
   "name": "python",
   "nbconvert_exporter": "python",
   "pygments_lexer": "ipython3",
   "version": "3.10.3"
  },
  "orig_nbformat": 4
 },
 "nbformat": 4,
 "nbformat_minor": 2
}
