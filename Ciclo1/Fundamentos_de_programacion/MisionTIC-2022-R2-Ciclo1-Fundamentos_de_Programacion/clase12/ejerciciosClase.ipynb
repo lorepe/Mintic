{
 "cells": [
  {
   "cell_type": "code",
   "execution_count": 14,
   "metadata": {},
   "outputs": [
    {
     "name": "stdout",
     "output_type": "stream",
     "text": [
      "(4, 1)\n",
      "[[1]\n",
      " [2]\n",
      " [3]\n",
      " [4]]\n",
      "(3, 1)\n",
      "[[1]\n",
      " [2]\n",
      " [3]]\n",
      "(6, 1)\n",
      "[[4]\n",
      " [3]\n",
      " [2]\n",
      " [4]\n",
      " [3]\n",
      " [1]]\n",
      "(2, 3)\n",
      "[[1 2 3]\n",
      " [1 2 3]]\n",
      "(5, 2)\n",
      "[[4. 0. 0. 0.]\n",
      " [0. 4. 0. 0.]\n",
      " [0. 0. 4. 0.]\n",
      " [0. 0. 0. 4.]]\n",
      "(4, 4)\n",
      "[[1. 0. 0. 0.]\n",
      " [0. 1. 0. 0.]\n",
      " [0. 0. 1. 0.]\n",
      " [0. 0. 0. 1.]]\n",
      "(4, 4)\n",
      "(4, 4, 4, 4, 4, 4, 4, 4)\n"
     ]
    }
   ],
   "source": [
    "#matriz es un arreglo que esta compusto por filas y columnas de un mismo tipo de dato en este caso numerico \n",
    "#primero la fila y luego la columna \n",
    "\n",
    "#desarrollo ejercicios propuestos en img de excel\n",
    "import numpy as np\n",
    "\n",
    "b=np.array([[1],[2],[3],[4]])\n",
    "print(b.shape)\n",
    "print(b)\n",
    "\n",
    "c=np.array([[1],[2],[3]])\n",
    "print(c.shape)\n",
    "print(c)\n",
    "\n",
    "d=np.array([[4],[3],[2],[4],[3],[1]])\n",
    "print(d.shape)\n",
    "print(d)\n",
    "\n",
    "e=np.array(([1,2,3],[1,2,3]))\n",
    "print(e.shape)\n",
    "print(e)\n",
    "\n",
    "f=np.array(([1,2],[1,2],[1,2],[1,2],[1,2]))\n",
    "print(f.shape)\n",
    "\n",
    "a=4*np.eye(4)\n",
    "print(a)\n",
    "print(a.shape)\n",
    "\n",
    "z=np.eye(4)\n",
    "print(z)\n",
    "print(z.shape)\n",
    "print(4*z.shape)\n",
    "\n",
    "\n",
    "\n",
    "\n"
   ]
  },
  {
   "cell_type": "code",
   "execution_count": 15,
   "metadata": {},
   "outputs": [
    {
     "name": "stdout",
     "output_type": "stream",
     "text": [
      "^C\n"
     ]
    }
   ],
   "source": [
    "! conda install pandas"
   ]
  },
  {
   "cell_type": "code",
   "execution_count": 1,
   "metadata": {},
   "outputs": [
    {
     "name": "stdout",
     "output_type": "stream",
     "text": [
      "3\n"
     ]
    }
   ],
   "source": [
    "a=1+2\n",
    "print(a)"
   ]
  },
  {
   "cell_type": "markdown",
   "metadata": {},
   "source": [
    "**Python**"
   ]
  }
 ],
 "metadata": {
  "interpreter": {
   "hash": "fcd2cf5a5c048d1fccc0a50f98c22d03a36847ee785357d67d479864459f539f"
  },
  "kernelspec": {
   "display_name": "Python 3.9.7 ('base')",
   "language": "python",
   "name": "python3"
  },
  "language_info": {
   "codemirror_mode": {
    "name": "ipython",
    "version": 3
   },
   "file_extension": ".py",
   "mimetype": "text/x-python",
   "name": "python",
   "nbconvert_exporter": "python",
   "pygments_lexer": "ipython3",
   "version": "3.9.7"
  },
  "orig_nbformat": 4
 },
 "nbformat": 4,
 "nbformat_minor": 2
}
