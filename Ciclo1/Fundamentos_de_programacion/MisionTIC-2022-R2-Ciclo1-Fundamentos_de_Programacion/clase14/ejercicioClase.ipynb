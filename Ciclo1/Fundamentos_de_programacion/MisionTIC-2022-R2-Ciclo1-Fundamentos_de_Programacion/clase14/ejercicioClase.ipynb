{
 "cells": [
  {
   "cell_type": "markdown",
   "metadata": {},
   "source": [
    "https://github.com/luismescobarf/clasesCiclo1/blob/master/AppCRUD_CapaDatos\n"
   ]
  }
 ],
 "metadata": {
  "interpreter": {
   "hash": "7f3065018bcd7bf6e0950978e0d0e3ee9e95750492171c14e129968bd54495c4"
  },
  "kernelspec": {
   "display_name": "Python 3.10.3 64-bit",
   "language": "python",
   "name": "python3"
  },
  "language_info": {
   "name": "python",
   "version": "3.10.3"
  },
  "orig_nbformat": 4
 },
 "nbformat": 4,
 "nbformat_minor": 2
}
