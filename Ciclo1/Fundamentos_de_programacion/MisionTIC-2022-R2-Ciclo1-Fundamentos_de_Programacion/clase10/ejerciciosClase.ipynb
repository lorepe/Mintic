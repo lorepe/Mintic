{
 "cells": [
  {
   "cell_type": "code",
   "execution_count": null,
   "metadata": {},
   "outputs": [],
   "source": [
    "n=0\n",
    "while n!=5:\n",
    "    if n ==7:\n",
    "     n=int(input('Digite un numero'))\n",
    "    "
   ]
  },
  {
   "cell_type": "code",
   "execution_count": 1,
   "metadata": {},
   "outputs": [
    {
     "name": "stdout",
     "output_type": "stream",
     "text": [
      "0\n",
      "1\n",
      "2\n",
      "3\n",
      "4\n",
      "5\n",
      "6\n",
      "7\n",
      "8\n",
      "9\n",
      "a\n",
      "e\n",
      "i\n",
      "o\n",
      "u\n"
     ]
    }
   ],
   "source": [
    "for x in range(10):#si le pongo un solo para metro empieza desde cero uno por uno \n",
    "    print(x)\n",
    " \n",
    " \n",
    "a='aeiou'   \n",
    "for x in a:#recorre strings \n",
    "    print(x)\n",
    "    \n",
    "    \n",
    "b =[0,1,2,3,4,5,'hola']#recorre arrays o listas, que  \n",
    "for x in b:\n",
    "    print(x)\n",
    "\n",
    "c =(0,1,2,3,4,5,'hola')#recorre tuplas\n",
    "for x in c:\n",
    "    print(x)\n",
    "    \n",
    "d={1:'hola','02':5,'tres':True}\n",
    "for x,y in d.items():\n",
    "    print(x,y)\n",
    "    \n"
   ]
  },
  {
   "cell_type": "code",
   "execution_count": null,
   "metadata": {},
   "outputs": [],
   "source": [
    "a=[]#lista, permite modificar\n",
    "b=()#tupla es inmutable\n",
    "c={}#diccionario, no permite repetir claves (clave:valor), se puede modificar"
   ]
  },
  {
   "cell_type": "code",
   "execution_count": 1,
   "metadata": {},
   "outputs": [],
   "source": [
    "def AutoPartes(ventas:list):\n",
    "    resultado={}\n",
    "    for x in range(len(ventas)):\n",
    "        resultado[x]= [ventas[x]]\n",
    "        \n",
    "        # resultado.update(x)\n",
    "        return #{Producto_Consultado  :  {idProducto}  Descripción  {dProducto} {sProducto} Comprador {nComprador} Documento {cComprador} Fecha Venta {fVenta}} \n",
    " \n",
    "#Ó \n",
    " \n",
    "#“No hay registro de venta de ese producto”\n"
   ]
  },
  {
   "cell_type": "code",
   "execution_count": null,
   "metadata": {},
   "outputs": [],
   "source": [
    "def consultarRegistro(ventas,IdProducto):\n",
    "    resultado={}\n",
    "    res2=''\n",
    "    for i in range(len(ventas)):\n",
    "        if ventas[i][0][0]==IdProducto:\n",
    "            resultado[i]=ventas[i]    \n",
    "    if len(resultado)==0:\n",
    "        res2='No hay registro de venta de ese producto'\n",
    "    for i in range(len(resultado)):\n",
    "        res2+='Producto consultado : {}  Descripción  {}  #Parte  {}  Cantidad vendida  {}  Stock  {}  Comprador {}  Documento  {}  Fecha Venta  {}'.format(resultado[i][0][0],resultado[i][0][1],resultado[i][0][2],resultado[i][0][3],resultado[i][0][4],resultado[i][0][5],resultado[i][0][6],resultado[i][0][7])\n",
    "    return print(res2)\n",
    "    \n",
    "    # print(resultado)\n",
    "    # print(res2)\n",
    "    \n",
    "consultarRegistro(AutoPartes(\n",
    "    [\n",
    "(2001,'rosca', 'PT29872',2,45,'Luis Molero',3456,'12/06/2020'),\n",
    "(2010,'bujía', 'MS9512',4,15,'Carlos Rondon',1256,'12/06/2020'),\n",
    "(2010,'bujía', 'ER6523',9,36,'Pedro Montes',1243,'12/06/2020'),\n",
    "(3578,'tijera', 'QW8523',1,128,'Pedro Faria',1456,'12/06/2020'),\n",
    "(9251,'piñón', 'EN5698',2,8,'Juan Peña',565,'12/06/2020')]), 2018)\n",
    "    # Producto consultado : 2010  Descripción  bujía  #Parte  MS9512  Cantidad vendida  4  Stock  15  Comprador Carlos Rondon  Documento  1256  Fecha Venta  12/06/2020\n",
    "\n",
    "    "
   ]
  },
  {
   "cell_type": "code",
   "execution_count": 2,
   "metadata": {},
   "outputs": [
    {
     "name": "stdout",
     "output_type": "stream",
     "text": [
      "--------------------------------\n",
      "Producto  consultado  :  9852  Descripción  válvula #Parte AZ8798 Cantidad vendida 2 Stock 11 Comprador Juan Peña Documento 568975 Fecha Venta 14/06/2020 \n",
      "Producto  consultado  :  9852  Descripción  válvula #Parte AZ8798 Cantidad vendida 2 Stock 11 Comprador Juan Peña Documento 568975 Fecha Venta 14/06/2020 \n",
      "\n",
      "Producto  consultado  :  2010  Descripción  piñón #Parte EN5698 Cantidad vendida 2 Stock 8 Comprador Juan Peña Documento 565 Fecha Venta 12/06/2020 \n",
      "Producto  consultado  :  2010  Descripción  piñón #Parte EN5698 Cantidad vendida 2 Stock 8 Comprador Juan Peña Documento 565 Fecha Venta 12/06/2020 \n",
      "\n"
     ]
    }
   ],
   "source": [
    "def AutoPartes(ventas:list):\n",
    "    dic ={}  #crear el diccionario vacío\n",
    "    for i in range(len(ventas)):\n",
    "        dic[i] = ventas[i]#asignar ventas al diccionario\n",
    "        \n",
    "    return dic #diccionario\n",
    "    \n",
    "    # diccionario = dict(zip(range(len(ventas)),ventas))\n",
    "     \n",
    "     #Retorna un diccionario \n",
    "    # print(diccionario)\n",
    "    # return diccionario\n",
    "    \n",
    "# print(AutoPartes([ \n",
    "#     (2001,'rosca', 'PT29872',2,45,'Luis Molero',3456,'12/06/2020'), \n",
    "#     (2010,'bujía', 'MS9512',4,15,'Carlos Rondon',1256,'12/06/2020'), \n",
    "#     (2010,'bujía', 'ER6523',9,36,'Pedro Montes',1243,'12/06/2020'),  \n",
    "#     (3578,'tijera', 'QW8523',1,128,'Pedro Faria',1456,'12/06/2020'), \n",
    "#     (9251,'piñón', 'EN5698',2,8,'Juan Peña',565,'12/06/2020')]))\n",
    "\n",
    "\n",
    "\n",
    "def consultaRegistro(ventas,idProducto):\n",
    "    # AutoPartes(ventas)\n",
    "    newDic = {}#crear un nuevo diccionario\n",
    "    respuesta= '' #crear una variable String vacía\n",
    "    for i in range(len(ventas)) :\n",
    "        if ventas[i][0] == idProducto: \n",
    "        #comparar si el producto existe con el idProducto:\n",
    "            newDic[i]= ventas[i]#Asignar ventas al nuevo diccionario\n",
    "          \n",
    "    if len(newDic) == 0:\n",
    "        respuesta = 'No hay registro de venta de ese producto' #Enviar la respuesta cuando no encuentra el producto\n",
    "    \n",
    "    for valoresDic in newDic.values() :\n",
    "    # for i in range(len(newDic)) :     \n",
    "        # print(valoresDic)\n",
    "        dProducto = ventas[i][1]\n",
    "        pnProducto = ventas [i][2]\n",
    "        cvProducto = ventas[i][3]\n",
    "        sProducto = ventas[i][4]\n",
    "        nComprador = ventas[i][5]\n",
    "        cComprador = ventas[i][6]\n",
    "        fVenta = ventas[i][7]\n",
    "        # for idProducto,dProducto,pnProducto,cvProducto,sProducto,nComprador,cComprador,fVenta in valoresDic:#escribir cada variable como indica el reto# in #iterablevaloresDic:\n",
    "        respuesta += f'Producto  consultado  :  {idProducto}  Descripción  {dProducto} #Parte {pnProducto} Cantidad vendida {cvProducto} Stock {sProducto} Comprador {nComprador} Documento {cComprador} Fecha Venta {fVenta} \\n'\n",
    "                #(f'Devolver respuesta exactamente como aparece en el reto\\n')      \n",
    "    # print(newDic.values())\n",
    "    print(respuesta)\n",
    "    \n",
    "# ventasLista=[ \n",
    "#     (2001,'rosca', 'PT29872',2,45,'Luis Molero',3456,'12/06/2020'), \n",
    "#     (2010,'bujía', 'MS9512',4,15,'Carlos Rondon',1256,'12/06/2020'), \n",
    "#     (2010,'bujía', 'ER6523',9,36,'Pedro Montes',1243,'12/06/2020'),  \n",
    "#     (3578,'tijera', 'QW8523',1,128,'Pedro Faria',1456,'12/06/2020'), \n",
    "#     (9251,'piñón', 'EN5698',2,8,'Juan Peña',565,'12/06/2020')]\n",
    "\n",
    "\n",
    "# print(AutoPartes(ventasLista))\n",
    "# consultaRegistro(ventasLista,2010)\n",
    "\n",
    "# consultaRegistro(AutoPartes([ \n",
    "#     (2001,'rosca', 'PT29872',2,45,'Luis Molero',3456,'12/06/2020'), \n",
    "#     (2010,'bujía', 'MS9512',4,15,'Carlos Rondon',1256,'12/06/2020'), \n",
    "#     (2010,'bujía', 'ER6523',9,36,'Pedro Montes',1243,'12/06/2020'),     \n",
    "#     (3578,'tijera', 'QW8523',1,128,'Pedro Faria',1456,'12/06/2020'), \n",
    "#     (9251,'piñón', 'EN5698',2,8,'Juan Peña',565,'12/06/2020')]), 2010)\n",
    "\n",
    "print(\"--------------------------------\")\n",
    "\n",
    "consultaRegistro(AutoPartes([\n",
    "    (9852,'Culata', 'XC9875',2,165,'Luis Molero',3455846,'14/06/2020'),\n",
    "    (9852,'Culata', 'XC9875',2,165,'Jose Mejia',1355846,'14/06/2020'),\n",
    "    (2564,'Cárter', 'PT29872',2,32,'Peter Cerezo',8545436,'14/06/2020'),\n",
    "    (5412,'válvula', 'AZ8798',2,11,'Juan Peña',568975,'14/06/2020')]), 9852)\n",
    "\n",
    "consultaRegistro(AutoPartes([\n",
    "    (2001,'rosca', 'PT29872',2,45,'Luis Molero',3456,'12/06/2020'),\n",
    "    (2010,'bujía', 'MS9512',4,15,'Carlos Rondon',1256,'12/06/2020'),\n",
    "    (2010,'bujía', 'ER6523',9,36,'Pedro Montes',1243,'12/06/2020'),\n",
    "    (3578,'tijera', 'QW8523',1,128,'Pedro Faria',1456,'12/06/2020'),\n",
    "    (9251,'piñón', 'EN5698',2,8,'Juan Peña',565,'12/06/2020')]), 2010)"
   ]
  },
  {
   "cell_type": "code",
   "execution_count": 1,
   "metadata": {},
   "outputs": [
    {
     "name": "stdout",
     "output_type": "stream",
     "text": [
      "\n",
      "[(1, 2), (3, 4)]\n"
     ]
    }
   ],
   "source": [
    "dic={1:(1,2),2:(3,4)}\n",
    "v=list(dic.values())\n",
    "# print(dic.values())\n",
    "print()\n",
    "print(v)"
   ]
  }
 ],
 "metadata": {
  "interpreter": {
   "hash": "7f3065018bcd7bf6e0950978e0d0e3ee9e95750492171c14e129968bd54495c4"
  },
  "kernelspec": {
   "display_name": "Python 3.10.3 64-bit",
   "language": "python",
   "name": "python3"
  },
  "language_info": {
   "codemirror_mode": {
    "name": "ipython",
    "version": 3
   },
   "file_extension": ".py",
   "mimetype": "text/x-python",
   "name": "python",
   "nbconvert_exporter": "python",
   "pygments_lexer": "ipython3",
   "version": "3.10.3"
  },
  "orig_nbformat": 4
 },
 "nbformat": 4,
 "nbformat_minor": 2
}
