{
 "cells": [
  {
   "cell_type": "code",
   "execution_count": null,
   "metadata": {},
   "outputs": [],
   "source": [
    "def calcularCosto (alto, ancho, profundo):\n",
    "    volumen=float((alto*ancho*profundo))\n",
    "    costo=(volumen*5)\n",
    "    if (alto>30):\n",
    "        costo=costo+2000\n",
    "    if(costo>10000):\n",
    "        costo=costo+(costo*0.19)\n",
    "    return costo\n",
    "\n",
    "\n",
    "def costoTotal(listaPaquetes,descuento):\n",
    "    \n",
    "    data = json.load(file)\n",
    "\n",
    "    costo_total=0\n",
    "    for paquete in listaPaquetes:\n",
    "        alto=paquete[\"ALTO\"]\n",
    "        ancho=paquete[\"ANCHO\"]\n",
    "        profundo=paquete[\"PROFUNDO\"]\n",
    "        costo=calcularCosto(alto,ancho,profundo)\n",
    "        costo_total = costo + costo_total\n",
    "    costo_total=costo_total - (costo_total*descuento/100)\n",
    "    return costo_total\n",
    "\n",
    "PAQUETES=[\n",
    "    {\n",
    "        \"ALTO\": 10,\n",
    "        \"ANCHO\": 15,\n",
    "        \"PROFUNDO\": 20\n",
    "        },\n",
    "    {\n",
    "        \"ALTO\": 30,\n",
    "        \"ANCHO\": 10,\n",
    "        \"PROFUNDO\": 10\n",
    "        },\n",
    "    {\n",
    "        \"ALTO\": 5,\n",
    "        \"ANCHO\": 15,\n",
    "        \"PROFUNDO\": 7\n",
    "        }\n",
    "    \n",
    "]\n",
    "print(PAQUETES)\n",
    "print (costoTotal(PAQUETES, 10))"
   ]
  }
 ],
 "metadata": {
  "language_info": {
   "name": "python"
  },
  "orig_nbformat": 4
 },
 "nbformat": 4,
 "nbformat_minor": 2
}
