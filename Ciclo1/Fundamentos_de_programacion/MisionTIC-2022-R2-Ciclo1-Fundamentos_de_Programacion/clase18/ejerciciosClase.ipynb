{
 "cells": [
  {
   "cell_type": "code",
   "execution_count": 2,
   "metadata": {},
   "outputs": [
    {
     "data": {
      "text/plain": [
       "<bound method Empleado.mostrar_info of <__main__.Empleado object at 0x00000202C19ECE80>>"
      ]
     },
     "execution_count": 2,
     "metadata": {},
     "output_type": "execute_result"
    }
   ],
   "source": [
    "class Hijo:\n",
    "    \n",
    "    def __init__(self):\n",
    "        self.nombrehijo=input('Digite el nombre de su hijo: ')\n",
    "        #el guion bajo es lo que denota si es privado\n",
    "\n",
    "    def getNombrehijo(self):\n",
    "        # return(self.__nombrehijo) atributo privado\n",
    "         return(self.nombrehijo)\n",
    "        \n",
    "\n",
    "\n",
    "\n",
    "class Empleado:\n",
    "    \n",
    "    def __init__(self):\n",
    "        self.nombre=input('Digite el nombre: ')\n",
    "        self.sueldo=float(input('Digite su sueldo: '))\n",
    "        self.codigo=input('Digite el codigo del empleado: ')\n",
    "        \n",
    "    def mostrar_info(self):\n",
    "        print('-----------------Informacion Empleado----------------')\n",
    "        print('Codigo: ',self.codigo)\n",
    "        print('Sueldo: ',self.sueldo)\n",
    "        print('Nombre: ',self.nombre)\n",
    "        print('Hijo: ',self.hijo.nombrehijo)\n",
    "        print('-----------------------Fin---------------------------')\n",
    "        \n",
    "empleado1 = Empleado()\n",
    "empleado1.mostrar_info              "
   ]
  },
  {
   "cell_type": "code",
   "execution_count": null,
   "metadata": {},
   "outputs": [],
   "source": [
    "import turtle\n",
    "\n",
    "window=turtle.Screen()\n",
    "flecha=turtle.Turtle()\n",
    "\n",
    "flecha.forward(100)\n",
    "flecha.left(90)\n",
    "flecha.forward(100)\n",
    "flecha.left(90)\n",
    "flecha.forward(100)\n",
    "flecha.left(90)\n",
    "flecha.forward(100)\n",
    "\n",
    "window.exitonclick()#para que no se cierre apenas haga la accion \n"
   ]
  }
 ],
 "metadata": {
  "interpreter": {
   "hash": "7f3065018bcd7bf6e0950978e0d0e3ee9e95750492171c14e129968bd54495c4"
  },
  "kernelspec": {
   "display_name": "Python 3.10.3 64-bit",
   "language": "python",
   "name": "python3"
  },
  "language_info": {
   "codemirror_mode": {
    "name": "ipython",
    "version": 3
   },
   "file_extension": ".py",
   "mimetype": "text/x-python",
   "name": "python",
   "nbconvert_exporter": "python",
   "pygments_lexer": "ipython3",
   "version": "3.10.3"
  },
  "orig_nbformat": 4
 },
 "nbformat": 4,
 "nbformat_minor": 2
}
