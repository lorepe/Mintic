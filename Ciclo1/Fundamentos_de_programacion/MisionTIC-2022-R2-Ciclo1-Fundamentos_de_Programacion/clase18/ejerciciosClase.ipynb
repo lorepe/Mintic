{
 "cells": [
  {
   "cell_type": "code",
   "execution_count": 2,
   "metadata": {},
   "outputs": [
    {
     "data": {
      "text/plain": [
       "<bound method Empleado.mostrar_info of <__main__.Empleado object at 0x00000202C19ECE80>>"
      ]
     },
     "execution_count": 2,
     "metadata": {},
     "output_type": "execute_result"
    }
   ],
   "source": [
    "class Hijo:\n",
    "    \n",
    "    def __init__(self):\n",
    "        self.nombrehijo=input('Digite el nombre de su hijo: ')\n",
    "        #el guion bajo es lo que denota si es privado\n",
    "\n",
    "    def getNombrehijo(self):\n",
    "        # return(self.__nombrehijo) atributo privado\n",
    "         return(self.nombrehijo)\n",
    "        \n",
    "\n",
    "\n",
    "\n",
    "class Empleado:\n",
    "    \n",
    "    def __init__(self):\n",
    "        self.nombre=input('Digite el nombre: ')\n",
    "        self.sueldo=float(input('Digite su sueldo: '))\n",
    "        self.codigo=input('Digite el codigo del empleado: ')\n",
    "        \n",
    "    def mostrar_info(self):\n",
    "        print('-----------------Informacion Empleado----------------')\n",
    "        print('Codigo: ',self.codigo)\n",
    "        print('Sueldo: ',self.sueldo)\n",
    "        print('Nombre: ',self.nombre)\n",
    "        print('Hijo: ',self.hijo.nombrehijo)\n",
    "        print('-----------------------Fin---------------------------')\n",
    "        \n",
    "empleado1 = Empleado()\n",
    "empleado1.mostrar_info              "
   ]
  },
  {
   "cell_type": "code",
   "execution_count": 1,
   "metadata": {},
   "outputs": [],
   "source": [
    "import turtle\n",
    "\n",
    "window=turtle.Screen()\n",
    "flecha=turtle.Turtle()\n",
    "\n",
    "flecha.forward(100)\n",
    "flecha.left(90)\n",
    "flecha.forward(100)\n",
    "flecha.left(90)\n",
    "flecha.forward(100)\n",
    "flecha.left(90)\n",
    "flecha.forward(100)\n",
    "\n",
    "window.exitonclick()#para que no se cierre apenas haga la accion \n"
   ]
  },
  {
   "cell_type": "code",
   "execution_count": 2,
   "metadata": {},
   "outputs": [
    {
     "ename": "Terminator",
     "evalue": "",
     "output_type": "error",
     "traceback": [
      "\u001b[1;31m---------------------------------------------------------------------------\u001b[0m",
      "\u001b[1;31mTerminator\u001b[0m                                Traceback (most recent call last)",
      "\u001b[1;32md:\\MINTIC\\Ciclo1\\Fundamentos_de_programacion\\MisionTIC-2022-R2-Ciclo1-Fundamentos_de_Programacion\\clase18\\ejerciciosClase.ipynb Cell 3'\u001b[0m in \u001b[0;36m<cell line: 2>\u001b[1;34m()\u001b[0m\n\u001b[0;32m      <a href='vscode-notebook-cell:/d%3A/MINTIC/Ciclo1/Fundamentos_de_programacion/MisionTIC-2022-R2-Ciclo1-Fundamentos_de_Programacion/clase18/ejerciciosClase.ipynb#ch0000002?line=0'>1</a>\u001b[0m window\u001b[39m=\u001b[39mturtle\u001b[39m.\u001b[39mScreen()\n\u001b[1;32m----> <a href='vscode-notebook-cell:/d%3A/MINTIC/Ciclo1/Fundamentos_de_programacion/MisionTIC-2022-R2-Ciclo1-Fundamentos_de_Programacion/clase18/ejerciciosClase.ipynb#ch0000002?line=1'>2</a>\u001b[0m flecha\u001b[39m=\u001b[39mturtle\u001b[39m.\u001b[39;49mTurtle()\n\u001b[0;32m      <a href='vscode-notebook-cell:/d%3A/MINTIC/Ciclo1/Fundamentos_de_programacion/MisionTIC-2022-R2-Ciclo1-Fundamentos_de_Programacion/clase18/ejerciciosClase.ipynb#ch0000002?line=2'>3</a>\u001b[0m \u001b[39mfor\u001b[39;00m  i \u001b[39min\u001b[39;00m \u001b[39mrange\u001b[39m(\u001b[39m4\u001b[39m):\n\u001b[0;32m      <a href='vscode-notebook-cell:/d%3A/MINTIC/Ciclo1/Fundamentos_de_programacion/MisionTIC-2022-R2-Ciclo1-Fundamentos_de_Programacion/clase18/ejerciciosClase.ipynb#ch0000002?line=3'>4</a>\u001b[0m     flecha\u001b[39m.\u001b[39mforward(\u001b[39m100\u001b[39m)\n",
      "File \u001b[1;32mc:\\Users\\lorep\\AppData\\Local\\Programs\\Python\\Python310\\lib\\turtle.py:3815\u001b[0m, in \u001b[0;36mTurtle.__init__\u001b[1;34m(self, shape, undobuffersize, visible)\u001b[0m\n\u001b[0;32m   <a href='file:///c%3A/Users/lorep/AppData/Local/Programs/Python/Python310/lib/turtle.py?line=3812'>3813</a>\u001b[0m \u001b[39mif\u001b[39;00m Turtle\u001b[39m.\u001b[39m_screen \u001b[39mis\u001b[39;00m \u001b[39mNone\u001b[39;00m:\n\u001b[0;32m   <a href='file:///c%3A/Users/lorep/AppData/Local/Programs/Python/Python310/lib/turtle.py?line=3813'>3814</a>\u001b[0m     Turtle\u001b[39m.\u001b[39m_screen \u001b[39m=\u001b[39m Screen()\n\u001b[1;32m-> <a href='file:///c%3A/Users/lorep/AppData/Local/Programs/Python/Python310/lib/turtle.py?line=3814'>3815</a>\u001b[0m RawTurtle\u001b[39m.\u001b[39;49m\u001b[39m__init__\u001b[39;49m(\u001b[39mself\u001b[39;49m, Turtle\u001b[39m.\u001b[39;49m_screen,\n\u001b[0;32m   <a href='file:///c%3A/Users/lorep/AppData/Local/Programs/Python/Python310/lib/turtle.py?line=3815'>3816</a>\u001b[0m                    shape\u001b[39m=\u001b[39;49mshape,\n\u001b[0;32m   <a href='file:///c%3A/Users/lorep/AppData/Local/Programs/Python/Python310/lib/turtle.py?line=3816'>3817</a>\u001b[0m                    undobuffersize\u001b[39m=\u001b[39;49mundobuffersize,\n\u001b[0;32m   <a href='file:///c%3A/Users/lorep/AppData/Local/Programs/Python/Python310/lib/turtle.py?line=3817'>3818</a>\u001b[0m                    visible\u001b[39m=\u001b[39;49mvisible)\n",
      "File \u001b[1;32mc:\\Users\\lorep\\AppData\\Local\\Programs\\Python\\Python310\\lib\\turtle.py:2558\u001b[0m, in \u001b[0;36mRawTurtle.__init__\u001b[1;34m(self, canvas, shape, undobuffersize, visible)\u001b[0m\n\u001b[0;32m   <a href='file:///c%3A/Users/lorep/AppData/Local/Programs/Python/Python310/lib/turtle.py?line=2555'>2556</a>\u001b[0m \u001b[39mself\u001b[39m\u001b[39m.\u001b[39m_undobuffersize \u001b[39m=\u001b[39m undobuffersize\n\u001b[0;32m   <a href='file:///c%3A/Users/lorep/AppData/Local/Programs/Python/Python310/lib/turtle.py?line=2556'>2557</a>\u001b[0m \u001b[39mself\u001b[39m\u001b[39m.\u001b[39mundobuffer \u001b[39m=\u001b[39m Tbuffer(undobuffersize)\n\u001b[1;32m-> <a href='file:///c%3A/Users/lorep/AppData/Local/Programs/Python/Python310/lib/turtle.py?line=2557'>2558</a>\u001b[0m \u001b[39mself\u001b[39;49m\u001b[39m.\u001b[39;49m_update()\n",
      "File \u001b[1;32mc:\\Users\\lorep\\AppData\\Local\\Programs\\Python\\Python310\\lib\\turtle.py:2661\u001b[0m, in \u001b[0;36mRawTurtle._update\u001b[1;34m(self)\u001b[0m\n\u001b[0;32m   <a href='file:///c%3A/Users/lorep/AppData/Local/Programs/Python/Python310/lib/turtle.py?line=2658'>2659</a>\u001b[0m     \u001b[39mreturn\u001b[39;00m\n\u001b[0;32m   <a href='file:///c%3A/Users/lorep/AppData/Local/Programs/Python/Python310/lib/turtle.py?line=2659'>2660</a>\u001b[0m \u001b[39melif\u001b[39;00m screen\u001b[39m.\u001b[39m_tracing \u001b[39m==\u001b[39m \u001b[39m1\u001b[39m:\n\u001b[1;32m-> <a href='file:///c%3A/Users/lorep/AppData/Local/Programs/Python/Python310/lib/turtle.py?line=2660'>2661</a>\u001b[0m     \u001b[39mself\u001b[39;49m\u001b[39m.\u001b[39;49m_update_data()\n\u001b[0;32m   <a href='file:///c%3A/Users/lorep/AppData/Local/Programs/Python/Python310/lib/turtle.py?line=2661'>2662</a>\u001b[0m     \u001b[39mself\u001b[39m\u001b[39m.\u001b[39m_drawturtle()\n\u001b[0;32m   <a href='file:///c%3A/Users/lorep/AppData/Local/Programs/Python/Python310/lib/turtle.py?line=2662'>2663</a>\u001b[0m     screen\u001b[39m.\u001b[39m_update()                  \u001b[39m# TurtleScreenBase\u001b[39;00m\n",
      "File \u001b[1;32mc:\\Users\\lorep\\AppData\\Local\\Programs\\Python\\Python310\\lib\\turtle.py:2647\u001b[0m, in \u001b[0;36mRawTurtle._update_data\u001b[1;34m(self)\u001b[0m\n\u001b[0;32m   <a href='file:///c%3A/Users/lorep/AppData/Local/Programs/Python/Python310/lib/turtle.py?line=2645'>2646</a>\u001b[0m \u001b[39mdef\u001b[39;00m \u001b[39m_update_data\u001b[39m(\u001b[39mself\u001b[39m):\n\u001b[1;32m-> <a href='file:///c%3A/Users/lorep/AppData/Local/Programs/Python/Python310/lib/turtle.py?line=2646'>2647</a>\u001b[0m     \u001b[39mself\u001b[39;49m\u001b[39m.\u001b[39;49mscreen\u001b[39m.\u001b[39;49m_incrementudc()\n\u001b[0;32m   <a href='file:///c%3A/Users/lorep/AppData/Local/Programs/Python/Python310/lib/turtle.py?line=2647'>2648</a>\u001b[0m     \u001b[39mif\u001b[39;00m \u001b[39mself\u001b[39m\u001b[39m.\u001b[39mscreen\u001b[39m.\u001b[39m_updatecounter \u001b[39m!=\u001b[39m \u001b[39m0\u001b[39m:\n\u001b[0;32m   <a href='file:///c%3A/Users/lorep/AppData/Local/Programs/Python/Python310/lib/turtle.py?line=2648'>2649</a>\u001b[0m         \u001b[39mreturn\u001b[39;00m\n",
      "File \u001b[1;32mc:\\Users\\lorep\\AppData\\Local\\Programs\\Python\\Python310\\lib\\turtle.py:1293\u001b[0m, in \u001b[0;36mTurtleScreen._incrementudc\u001b[1;34m(self)\u001b[0m\n\u001b[0;32m   <a href='file:///c%3A/Users/lorep/AppData/Local/Programs/Python/Python310/lib/turtle.py?line=1290'>1291</a>\u001b[0m \u001b[39mif\u001b[39;00m \u001b[39mnot\u001b[39;00m TurtleScreen\u001b[39m.\u001b[39m_RUNNING:\n\u001b[0;32m   <a href='file:///c%3A/Users/lorep/AppData/Local/Programs/Python/Python310/lib/turtle.py?line=1291'>1292</a>\u001b[0m     TurtleScreen\u001b[39m.\u001b[39m_RUNNING \u001b[39m=\u001b[39m \u001b[39mTrue\u001b[39;00m\n\u001b[1;32m-> <a href='file:///c%3A/Users/lorep/AppData/Local/Programs/Python/Python310/lib/turtle.py?line=1292'>1293</a>\u001b[0m     \u001b[39mraise\u001b[39;00m Terminator\n\u001b[0;32m   <a href='file:///c%3A/Users/lorep/AppData/Local/Programs/Python/Python310/lib/turtle.py?line=1293'>1294</a>\u001b[0m \u001b[39mif\u001b[39;00m \u001b[39mself\u001b[39m\u001b[39m.\u001b[39m_tracing \u001b[39m>\u001b[39m \u001b[39m0\u001b[39m:\n\u001b[0;32m   <a href='file:///c%3A/Users/lorep/AppData/Local/Programs/Python/Python310/lib/turtle.py?line=1294'>1295</a>\u001b[0m     \u001b[39mself\u001b[39m\u001b[39m.\u001b[39m_updatecounter \u001b[39m+\u001b[39m\u001b[39m=\u001b[39m \u001b[39m1\u001b[39m\n",
      "\u001b[1;31mTerminator\u001b[0m: "
     ]
    },
    {
     "ename": "",
     "evalue": "",
     "output_type": "error",
     "traceback": [
      "\u001b[1;31mThe Kernel crashed while executing code in the the current cell or a previous cell. Please review the code in the cell(s) to identify a possible cause of the failure. Click <a href='https://aka.ms/vscodeJupyterKernelCrash'>here</a> for more info. View Jupyter <a href='command:jupyter.viewOutput'>log</a> for further details."
     ]
    }
   ],
   "source": []
  }
 ],
 "metadata": {
  "interpreter": {
   "hash": "7f3065018bcd7bf6e0950978e0d0e3ee9e95750492171c14e129968bd54495c4"
  },
  "kernelspec": {
   "display_name": "Python 3.10.3 64-bit",
   "language": "python",
   "name": "python3"
  },
  "language_info": {
   "codemirror_mode": {
    "name": "ipython",
    "version": 3
   },
   "file_extension": ".py",
   "mimetype": "text/x-python",
   "name": "python",
   "nbconvert_exporter": "python",
   "pygments_lexer": "ipython3",
   "version": "3.10.3"
  },
  "orig_nbformat": 4
 },
 "nbformat": 4,
 "nbformat_minor": 2
}
